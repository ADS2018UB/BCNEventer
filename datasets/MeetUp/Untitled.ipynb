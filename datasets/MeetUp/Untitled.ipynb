{
 "cells": [
  {
   "cell_type": "code",
   "execution_count": 1,
   "metadata": {},
   "outputs": [],
   "source": [
    "import pandas as pd"
   ]
  },
  {
   "cell_type": "code",
   "execution_count": 5,
   "metadata": {},
   "outputs": [],
   "source": [
    "db_meetup = pd.read_csv('events_barcelona.csv', sep=';')"
   ]
  },
  {
   "cell_type": "code",
   "execution_count": 51,
   "metadata": {},
   "outputs": [
    {
     "name": "stdout",
     "output_type": "stream",
     "text": [
      "\"Arts & Culture\",\"Book Clubs\",\"Career & Business\",\"Cars & Motorcycles\",\"Community & Environment\",\"Dancing\",\"Education & Learning\",\"Fashion & Beauty\",\"Fitness\",\"Food & Drink\",\"Games\",\"Health & Wellbeing\",\"Hobbies & Crafts\",\"Language & Ethnic Identity\",\"LGBT\",\"Movies & Film\",\"Music\",\"New Age & Spirituality\",\"Outdoors & Adventure\",\"Parents & Family\",\"Pets & Animals\",\"Photography\",\"Religion & Beliefs\",\"Singles\",\"Socializing\",\"Sports & Recreation\",\"Support\",\"Tech\",\"Writing\",\"nan\",\""
     ]
    }
   ],
   "source": [
    "print(\"\\\"\", end=\"\")\n",
    "for i in db_meetup['category'].unique():\n",
    "    \n",
    "    print(i, end='\\\",\\\"')"
   ]
  },
  {
   "cell_type": "code",
   "execution_count": 52,
   "metadata": {},
   "outputs": [
    {
     "data": {
      "text/plain": [
       "30"
      ]
     },
     "execution_count": 52,
     "metadata": {},
     "output_type": "execute_result"
    }
   ],
   "source": [
    "len(db_meetup['category'].unique())"
   ]
  },
  {
   "cell_type": "code",
   "execution_count": 59,
   "metadata": {},
   "outputs": [
    {
     "name": "stdout",
     "output_type": "stream",
     "text": [
      "2\n",
      "2\n",
      "1\n",
      "2\n",
      "1\n",
      "2\n",
      "1\n",
      "2\n",
      "2\n",
      "1\n"
     ]
    }
   ],
   "source": [
    "import numpy as np\n",
    "for i in range(0,10):\n",
    "    print(np.random.randint(1,3))"
   ]
  },
  {
   "cell_type": "code",
   "execution_count": 100,
   "metadata": {},
   "outputs": [],
   "source": [
    "preferences = [\"Arts & Culture\",\"Community & Environment\",\"Fashion & Beauty\",\n",
    "                                \"Food & Drink\",\"Hobbies & Crafts\", \"Language & Ethnic Identity\",\n",
    "                                \"LGBT\", \"Movies & Film\", \"Music\", \"New Age & Spirituality\",\n",
    "                                \"Pets & Animals\",\"Photography\",\"Religion & Beliefs\",]\n",
    "\n",
    "available_preferences = [\"Arts & Culture\",\"Book Clubs\",\"Career & Business\",\n",
    "                         \"Cars & Motorcycles\",\"Community & Environment\",\"Dancing\",\n",
    "                         \"Education & Learning\",\"Fashion & Beauty\",\"Fitness\",\n",
    "                         \"Food & Drink\",\"Games\",\"Health & Wellbeing\",\"Hobbies & Crafts\",\n",
    "                         \"Language & Ethnic Identity\",\"LGBT\",\"Movies & Film\",\"Music\",\n",
    "                         \"New Age & Spirituality\",\"Outdoors & Adventure\",\"Parents & Family\",\n",
    "                         \"Pets & Animals\",\"Photography\",\"Religion & Beliefs\",\"Singles\",\n",
    "                         \"Socializing\",\"Sports & Recreation\",\"Support\",\"Tech\",\"Writing\"]"
   ]
  },
  {
   "cell_type": "code",
   "execution_count": 105,
   "metadata": {},
   "outputs": [
    {
     "name": "stdout",
     "output_type": "stream",
     "text": [
      "['Arts & Culture', 'Fashion & Beauty', 'Food & Drink', 'Hobbies & Crafts', 'LGBT', 'Music', 'New Age & Spirituality', 'Pets & Animals', 'Photography', 'Religion & Beliefs']\n",
      "10\n",
      "['Arts & Culture', 'Food & Drink', 'Hobbies & Crafts', 'LGBT', 'New Age & Spirituality', 'Pets & Animals', 'Religion & Beliefs', 'Education & Learning', 'Fitness', 'Dancing', 'Language & Ethnic Identity']\n",
      "11\n"
     ]
    }
   ],
   "source": [
    "print(preferences)\n",
    "print(len(preferences))\n",
    "nb_to_remove = 3\n",
    "nb_to_add = 4\n",
    "\n",
    "not_selected_preferences = list(set(preferences) ^ set(available_preferences))\n",
    "\n",
    "if nb_to_remove > len(preferences):\n",
    "    nb_to_remove = len(preferences)\n",
    "\n",
    "\n",
    "if nb_to_add > len(not_selected_preferences):\n",
    "    nb_to_add =  len(not_selected_preferences)\n",
    "    \n",
    "for i in range(0,nb_to_remove):\n",
    "    preferences.pop(np.random.randint(0,len(preferences)-i+1))\n",
    "    \n",
    "for j in range(0,nb_to_add):\n",
    "    preferences.append(not_selected_preferences[np.random.randint(0,len(not_selected_preferences)+1 - i)])\n",
    "print(preferences)\n",
    "print(len(preferences))\n",
    "\n"
   ]
  },
  {
   "cell_type": "code",
   "execution_count": 104,
   "metadata": {},
   "outputs": [
    {
     "ename": "NameError",
     "evalue": "name 'aslist' is not defined",
     "traceback": [
      "\u001b[0;31m---------------------------------------------------------------------------\u001b[0m",
      "\u001b[0;31mNameError\u001b[0m                                 Traceback (most recent call last)",
      "\u001b[0;32m<ipython-input-104-48db59ece13d>\u001b[0m in \u001b[0;36m<module>\u001b[0;34m()\u001b[0m\n\u001b[0;32m----> 1\u001b[0;31m \u001b[0maslist\u001b[0m\u001b[0;34m(\u001b[0m\u001b[0mnot_selected_preferences\u001b[0m\u001b[0;34m)\u001b[0m\u001b[0;34m\u001b[0m\u001b[0m\n\u001b[0m",
      "\u001b[0;31mNameError\u001b[0m: name 'aslist' is not defined"
     ],
     "output_type": "error"
    }
   ],
   "source": [
    "aslist(not_selected_preferences)"
   ]
  },
  {
   "cell_type": "code",
   "execution_count": 91,
   "metadata": {},
   "outputs": [],
   "source": [
    "data_xceed = pd.read_csv('../Xceed/xceed_barcelona.csv')"
   ]
  },
  {
   "cell_type": "code",
   "execution_count": 109,
   "metadata": {},
   "outputs": [
    {
     "name": "stdout",
     "output_type": "stream",
     "text": [
      "Techno  Tech house\n",
      "Deep House  Tech house  House\n",
      "House  Techno  Tech house\n",
      "Techno  Minimal  Electronic  Electro\n",
      "Electro  House  Dance\n",
      "Electro  Techno\n",
      "Electronic  Techno  House\n",
      "Electronic  Electro  Funky\n",
      "Hip hop  R&B\n",
      "Hip hop  R&B  Reggae - Dancehall\n",
      "Techno\n",
      "House  Hits  Electronic\n",
      "Hip hop  R&B  Urban\n",
      "Hits  Dance  Pop\n",
      "Deep House  House\n",
      "Hip hop  R&B  Hits\n",
      "Hits  Indie - Rock  Pop\n",
      "Deep House\n",
      "Electronic  Electro  Funky  Deep House\n",
      "Hits  Latin  Reggaeton\n",
      "Reggaeton  R&B  Hip hop\n",
      "House  Hits\n",
      "Hip hop  R&B  Reggaeton\n",
      "Indie - Rock  R&B  Pop\n",
      "Latin  Reggaeton  Hits\n",
      "Electronic  Electro  Deep House  Nu-Disco\n"
     ]
    },
    {
     "data": {
      "text/plain": [
       "19"
      ]
     },
     "execution_count": 109,
     "metadata": {},
     "output_type": "execute_result"
    }
   ],
   "source": [
    "\n",
    "for i in data_xceed['musice style'].unique():\n",
    "    print(i)\n",
    "    \n",
    "music_genres = ['techno','tech house','deep house','house',\n",
    "            'minimal','electronic', 'electro', 'dance',\n",
    "             'funky','hip hop','r&b','reggae dancehall',\n",
    "            'hits', 'urban','pop','indie rock','latin',\n",
    "            'reggaeton','nu disco']\n",
    "len(music_genres)"
   ]
  },
  {
   "cell_type": "code",
   "execution_count": 21,
   "metadata": {},
   "outputs": [
    {
     "data": {
      "text/html": [
       "<div>\n",
       "<style scoped>\n",
       "    .dataframe tbody tr th:only-of-type {\n",
       "        vertical-align: middle;\n",
       "    }\n",
       "\n",
       "    .dataframe tbody tr th {\n",
       "        vertical-align: top;\n",
       "    }\n",
       "\n",
       "    .dataframe thead th {\n",
       "        text-align: right;\n",
       "    }\n",
       "</style>\n",
       "<table border=\"1\" class=\"dataframe\">\n",
       "  <thead>\n",
       "    <tr style=\"text-align: right;\">\n",
       "      <th></th>\n",
       "      <th>Unnamed: 0</th>\n",
       "      <th>description</th>\n",
       "      <th>start time</th>\n",
       "      <th>place</th>\n",
       "      <th>musice style</th>\n",
       "      <th>price</th>\n",
       "      <th>category</th>\n",
       "    </tr>\n",
       "  </thead>\n",
       "  <tbody>\n",
       "    <tr>\n",
       "      <th>0</th>\n",
       "      <td>0</td>\n",
       "      <td>PRISM 1st anniversary with Ben Klock</td>\n",
       "      <td>Saturday, 17 November</td>\n",
       "      <td>INPUT Dance Club</td>\n",
       "      <td>Techno  Tech house</td>\n",
       "      <td>€18.00</td>\n",
       "      <td>Music</td>\n",
       "    </tr>\n",
       "    <tr>\n",
       "      <th>1</th>\n",
       "      <td>1</td>\n",
       "      <td>NOMADS pres: Sebastien Leger, Hraach, Nick Varon</td>\n",
       "      <td>Saturday, 17 November</td>\n",
       "      <td>Bikini</td>\n",
       "      <td>Deep House  Tech house  House</td>\n",
       "      <td>€10.00</td>\n",
       "      <td>Music</td>\n",
       "    </tr>\n",
       "    <tr>\n",
       "      <th>2</th>\n",
       "      <td>2</td>\n",
       "      <td>B Club - Marco Faraone &amp; Victor Fernandez</td>\n",
       "      <td>Thursday, 15 November</td>\n",
       "      <td>City Hall</td>\n",
       "      <td>Techno  Tech house</td>\n",
       "      <td>€10.00</td>\n",
       "      <td>Music</td>\n",
       "    </tr>\n",
       "    <tr>\n",
       "      <th>3</th>\n",
       "      <td>3</td>\n",
       "      <td>SIGHT pres. Apollonia &amp; Mahony</td>\n",
       "      <td>Friday, 16 November</td>\n",
       "      <td>Pacha Barcelona</td>\n",
       "      <td>House  Techno  Tech house</td>\n",
       "      <td>FREE</td>\n",
       "      <td>Music</td>\n",
       "    </tr>\n",
       "    <tr>\n",
       "      <th>4</th>\n",
       "      <td>4</td>\n",
       "      <td>R33 Barcelona present: Anja Schneider</td>\n",
       "      <td>Saturday, 17 November</td>\n",
       "      <td>R33 Club</td>\n",
       "      <td>Techno  Minimal  Electronic  Electro</td>\n",
       "      <td>€15.00</td>\n",
       "      <td>Music</td>\n",
       "    </tr>\n",
       "  </tbody>\n",
       "</table>\n",
       "</div>"
      ],
      "text/plain": [
       "   Unnamed: 0                                       description  \\\n",
       "0           0              PRISM 1st anniversary with Ben Klock   \n",
       "1           1  NOMADS pres: Sebastien Leger, Hraach, Nick Varon   \n",
       "2           2         B Club - Marco Faraone & Victor Fernandez   \n",
       "3           3                    SIGHT pres. Apollonia & Mahony   \n",
       "4           4             R33 Barcelona present: Anja Schneider   \n",
       "\n",
       "              start time             place  \\\n",
       "0  Saturday, 17 November  INPUT Dance Club   \n",
       "1  Saturday, 17 November            Bikini   \n",
       "2  Thursday, 15 November         City Hall   \n",
       "3    Friday, 16 November   Pacha Barcelona   \n",
       "4  Saturday, 17 November          R33 Club   \n",
       "\n",
       "                           musice style    price category  \n",
       "0                    Techno  Tech house   €18.00    Music  \n",
       "1         Deep House  Tech house  House   €10.00    Music  \n",
       "2                    Techno  Tech house   €10.00    Music  \n",
       "3             House  Techno  Tech house    FREE     Music  \n",
       "4  Techno  Minimal  Electronic  Electro   €15.00    Music  "
      ]
     },
     "execution_count": 21,
     "metadata": {},
     "output_type": "execute_result"
    }
   ],
   "source": [
    "data_xceed.head()"
   ]
  },
  {
   "cell_type": "code",
   "execution_count": 30,
   "metadata": {},
   "outputs": [
    {
     "name": "stdout",
     "output_type": "stream",
     "text": [
      "Requirement already satisfied: faker in /anaconda3/lib/python3.7/site-packages (1.0.0)\r\n",
      "Requirement already satisfied: text-unidecode==1.2 in /anaconda3/lib/python3.7/site-packages (from faker) (1.2)\r\n",
      "Requirement already satisfied: six>=1.10 in /anaconda3/lib/python3.7/site-packages (from faker) (1.11.0)\r\n",
      "Requirement already satisfied: python-dateutil>=2.4 in /anaconda3/lib/python3.7/site-packages (from faker) (2.7.3)\r\n"
     ]
    }
   ],
   "source": [
    "!pip install faker"
   ]
  },
  {
   "cell_type": "code",
   "execution_count": 33,
   "metadata": {},
   "outputs": [],
   "source": [
    "from faker import Faker\n",
    "faker = Faker()"
   ]
  },
  {
   "cell_type": "code",
   "execution_count": 45,
   "metadata": {},
   "outputs": [
    {
     "data": {
      "text/plain": [
       "'qlindsey@example.net'"
      ]
     },
     "execution_count": 45,
     "metadata": {},
     "output_type": "execute_result"
    }
   ],
   "source": [
    "faker.ascii_safe_email()"
   ]
  },
  {
   "cell_type": "code",
   "execution_count": 47,
   "metadata": {},
   "outputs": [
    {
     "ename": "SyntaxError",
     "evalue": "invalid syntax (<ipython-input-47-0bb0c92867a6>, line 1)",
     "traceback": [
      "\u001b[0;36m  File \u001b[0;32m\"<ipython-input-47-0bb0c92867a6>\"\u001b[0;36m, line \u001b[0;32m1\u001b[0m\n\u001b[0;31m    import '../app' as app\u001b[0m\n\u001b[0m                  ^\u001b[0m\n\u001b[0;31mSyntaxError\u001b[0m\u001b[0;31m:\u001b[0m invalid syntax\n"
     ],
     "output_type": "error"
    }
   ],
   "source": [
    "import  as app"
   ]
  },
  {
   "cell_type": "code",
   "execution_count": null,
   "metadata": {},
   "outputs": [],
   "source": []
  }
 ],
 "metadata": {
  "kernelspec": {
   "display_name": "Python 3",
   "language": "python",
   "name": "python3"
  },
  "language_info": {
   "codemirror_mode": {
    "name": "ipython",
    "version": 3
   },
   "file_extension": ".py",
   "mimetype": "text/x-python",
   "name": "python",
   "nbconvert_exporter": "python",
   "pygments_lexer": "ipython3",
   "version": "3.7.0"
  }
 },
 "nbformat": 4,
 "nbformat_minor": 2
}
