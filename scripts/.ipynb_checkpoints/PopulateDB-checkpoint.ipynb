{
 "cells": [
  {
   "cell_type": "markdown",
   "metadata": {},
   "source": [
    "## Create db and collections"
   ]
  },
  {
   "cell_type": "code",
   "execution_count": 21,
   "metadata": {
    "collapsed": false
   },
   "outputs": [
    {
     "name": "stdout",
     "output_type": "stream",
     "text": [
      "Connected successfully!!!\n"
     ]
    },
    {
     "data": {
      "text/plain": [
       "MongoClient(host=['localhost:27017'], document_class=dict, tz_aware=False, connect=True)"
      ]
     },
     "execution_count": 21,
     "metadata": {},
     "output_type": "execute_result"
    }
   ],
   "source": [
    "import pymongo\n",
    "\n",
    "# Connection to Mongo DB\n",
    "try:\n",
    "    conn=pymongo.MongoClient()\n",
    "    print (\"Connected successfully!!!\")\n",
    "except pymongo.errors.ConnectionFailure as e:\n",
    "    print (\"Could not connect to MongoDB: %s\" % e) \n",
    "conn"
   ]
  },
  {
   "cell_type": "code",
   "execution_count": 22,
   "metadata": {
    "collapsed": false
   },
   "outputs": [
    {
     "name": "stdout",
     "output_type": "stream",
     "text": [
      "Database(MongoClient(host=['localhost:27017'], document_class=dict, tz_aware=False, connect=True), 'events')\n"
     ]
    },
    {
     "data": {
      "text/plain": [
       "['admin', 'config', 'events', 'local']"
      ]
     },
     "execution_count": 22,
     "metadata": {},
     "output_type": "execute_result"
    }
   ],
   "source": [
    "# create db\n",
    "db = conn['events']\n",
    "print (db)\n",
    "conn.database_names()\n",
    "# Empty db doesn't show"
   ]
  },
  {
   "cell_type": "code",
   "execution_count": 23,
   "metadata": {
    "collapsed": false
   },
   "outputs": [
    {
     "data": {
      "text/plain": [
       "['opendata']"
      ]
     },
     "execution_count": 23,
     "metadata": {},
     "output_type": "execute_result"
    }
   ],
   "source": [
    "# A collection is the equivalent to a table in rdbms\n",
    "collection = db.opendata\n",
    "db.collection_names()\n",
    "# Empty collections don't show"
   ]
  },
  {
   "cell_type": "markdown",
   "metadata": {},
   "source": [
    "## Read data"
   ]
  },
  {
   "cell_type": "code",
   "execution_count": 1,
   "metadata": {
    "collapsed": true
   },
   "outputs": [],
   "source": [
    "import pandas as pd"
   ]
  },
  {
   "cell_type": "code",
   "execution_count": 45,
   "metadata": {
    "collapsed": true
   },
   "outputs": [],
   "source": [
    "cnames = ['lat', #0\n",
    "          'long', #1\n",
    "          'event_type', #2\n",
    "          'address', #3 \n",
    "          'start_date', #4\n",
    "          'end_date', #5\n",
    "          'event_info', #6\n",
    "          'web', #7\n",
    "          'image', #8\n",
    "          'tickets', #9\n",
    "          'year', #10\n",
    "          'location' #11\n",
    "         ] "
   ]
  },
  {
   "cell_type": "markdown",
   "metadata": {},
   "source": [
    "### Street markets data set"
   ]
  },
  {
   "cell_type": "code",
   "execution_count": 54,
   "metadata": {
    "collapsed": true
   },
   "outputs": [],
   "source": [
    "def drop_columns(data):\n",
    "    drop_columns = list(set(data.columns) - set(cnames))\n",
    "    data = data.drop(drop_columns, axis = 1)\n",
    "    return(data)\n",
    "def load_and_prepare_data(cnames, rename_cols_fct, path):\n",
    "    data = pd.read_csv(path)\n",
    "    data = rename_cols_fct(cnames, data)\n",
    "    data = drop_columns(data)\n",
    "    return(data)\n",
    "def rename_cols_street_markets(cnames, data):\n",
    "    data.rename(columns={'NOM_CAPA':cnames[2], 'LONGITUD':cnames[1], 'LATITUD': cnames[0],\n",
    "                                   'ADRECA': cnames[3] }, inplace = True)\n",
    "    data[cnames[2]] = 'Street Markets'\n",
    "    return(data)\n",
    "def rename_cols_cultural_activities(cnames, data):\n",
    "    data = data.rename(columns={'Data fi':cnames[5], 'Data inici':cnames[4], 'Descripció': cnames[6],\n",
    "                                   'Enllaços': cnames[7], 'Imatges': cnames[8], 'Entrades': cnames[9]})\n",
    "    return(data)\n",
    "def rename_cols_temporary_expos(cnames, data):\n",
    "    data = data.rename(columns={'Any':cnames[10], 'Latitud':cnames[0], 'Longitud': cnames[1],\n",
    "                                   'Web': cnames[7], 'Seu': cnames[11]})\n",
    "    return(data)\n",
    "def write_db(data, data_name):\n",
    "    try:\n",
    "        collection.insert_many(data.to_dict(\"records\"))\n",
    "        print(\"%s data successfully written to DB!!!\" % data_name)\n",
    "    except pymongo.errors.WriteError as e:\n",
    "        print(\"Could not write %s data to DB: %s\" % (data_name, e))"
   ]
  },
  {
   "cell_type": "markdown",
   "metadata": {},
   "source": [
    "### Street Marketes"
   ]
  },
  {
   "cell_type": "code",
   "execution_count": 55,
   "metadata": {
    "collapsed": false
   },
   "outputs": [
    {
     "name": "stdout",
     "output_type": "stream",
     "text": [
      "Street Markets data successfully written to DB!!!\n"
     ]
    }
   ],
   "source": [
    "street_markets = load_and_prepare_data(cnames, rename_cols_street_markets, \"../datasets/OpenDataBCN/street_markets.csv\")\n",
    "write_db(street_markets, \"Street Markets\")"
   ]
  },
  {
   "cell_type": "markdown",
   "metadata": {},
   "source": [
    "### Cultural Activities"
   ]
  },
  {
   "cell_type": "code",
   "execution_count": 56,
   "metadata": {
    "collapsed": false
   },
   "outputs": [
    {
     "name": "stdout",
     "output_type": "stream",
     "text": [
      "Cultural Activities data successfully written to DB!!!\n"
     ]
    }
   ],
   "source": [
    "cultural_activities = load_and_prepare_data(cnames, rename_cols_cultural_activities, \"../datasets/OpenDataBCN/cultural_activities.csv\")\n",
    "write_db(cultural_activities, \"Cultural Activities\")"
   ]
  },
  {
   "cell_type": "markdown",
   "metadata": {},
   "source": [
    "### Temporary Expos"
   ]
  },
  {
   "cell_type": "code",
   "execution_count": 57,
   "metadata": {
    "collapsed": false
   },
   "outputs": [
    {
     "name": "stdout",
     "output_type": "stream",
     "text": [
      "temporary_expos data successfully written to DB!!!\n"
     ]
    }
   ],
   "source": [
    "temporary_expos = load_and_prepare_data(cnames, rename_cols_temporary_expos, \"../datasets/OpenDataBCN/temporary_expos.csv\")\n",
    "write_db(temporary_expos, \"temporary_expos\")"
   ]
  },
  {
   "cell_type": "code",
   "execution_count": null,
   "metadata": {
    "collapsed": true
   },
   "outputs": [],
   "source": []
  },
  {
   "cell_type": "code",
   "execution_count": 60,
   "metadata": {
    "collapsed": false
   },
   "outputs": [],
   "source": [
    "for d in collection.find():\n",
    "    print (d)"
   ]
  },
  {
   "cell_type": "code",
   "execution_count": 59,
   "metadata": {
    "collapsed": false
   },
   "outputs": [
    {
     "data": {
      "text/plain": [
       "<pymongo.results.DeleteResult at 0x1201de2c8>"
      ]
     },
     "execution_count": 59,
     "metadata": {},
     "output_type": "execute_result"
    }
   ],
   "source": [
    "collection.delete_many({})"
   ]
  },
  {
   "cell_type": "code",
   "execution_count": null,
   "metadata": {
    "collapsed": true
   },
   "outputs": [],
   "source": []
  }
 ],
 "metadata": {
  "anaconda-cloud": {},
  "kernelspec": {
   "display_name": "Python [conda env:py3p6]",
   "language": "python",
   "name": "conda-env-py3p6-py"
  },
  "language_info": {
   "codemirror_mode": {
    "name": "ipython",
    "version": 3
   },
   "file_extension": ".py",
   "mimetype": "text/x-python",
   "name": "python",
   "nbconvert_exporter": "python",
   "pygments_lexer": "ipython3",
   "version": "3.6.2"
  }
 },
 "nbformat": 4,
 "nbformat_minor": 1
}
