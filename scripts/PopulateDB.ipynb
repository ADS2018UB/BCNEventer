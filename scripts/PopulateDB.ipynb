{
 "cells": [
  {
   "cell_type": "markdown",
   "metadata": {},
   "source": [
    "## Create db and collections"
   ]
  },
  {
   "cell_type": "code",
   "execution_count": 1,
   "metadata": {
    "collapsed": false
   },
   "outputs": [
    {
     "name": "stdout",
     "output_type": "stream",
     "text": [
      "Connected successfully!!!\n"
     ]
    },
    {
     "data": {
      "text/plain": [
       "MongoClient(host=['localhost:27017'], document_class=dict, tz_aware=False, connect=True)"
      ]
     },
     "execution_count": 1,
     "metadata": {},
     "output_type": "execute_result"
    }
   ],
   "source": [
    "import pymongo\n",
    "\n",
    "# Connection to Mongo DB\n",
    "try:\n",
    "    conn=pymongo.MongoClient()\n",
    "    print (\"Connected successfully!!!\")\n",
    "except pymongo.errors.ConnectionFailure as e:\n",
    "    print (\"Could not connect to MongoDB: %s\" % e) \n",
    "conn"
   ]
  },
  {
   "cell_type": "code",
   "execution_count": 4,
   "metadata": {
    "collapsed": false
   },
   "outputs": [
    {
     "name": "stdout",
     "output_type": "stream",
     "text": [
      "Database(MongoClient(host=['localhost:27017'], document_class=dict, tz_aware=False, connect=True), 'events')\n"
     ]
    },
    {
     "data": {
      "text/plain": [
       "['admin', 'config', 'local']"
      ]
     },
     "execution_count": 4,
     "metadata": {},
     "output_type": "execute_result"
    }
   ],
   "source": [
    "# create db\n",
    "db = conn['events']\n",
    "print (db)\n",
    "conn.database_names()\n",
    "# Empty db doesn't show"
   ]
  },
  {
   "cell_type": "code",
   "execution_count": 6,
   "metadata": {
    "collapsed": false
   },
   "outputs": [
    {
     "data": {
      "text/plain": [
       "[]"
      ]
     },
     "execution_count": 6,
     "metadata": {},
     "output_type": "execute_result"
    }
   ],
   "source": [
    "# A collection is the equivalent to a table in rdbms\n",
    "collection = db.opendata\n",
    "db.collection_names()\n",
    "# Empty collections don't show"
   ]
  },
  {
   "cell_type": "markdown",
   "metadata": {},
   "source": [
    "## Read data"
   ]
  },
  {
   "cell_type": "code",
   "execution_count": 7,
   "metadata": {
    "collapsed": true
   },
   "outputs": [],
   "source": [
    "import pandas as pd"
   ]
  },
  {
   "cell_type": "code",
   "execution_count": 10,
   "metadata": {
    "collapsed": true
   },
   "outputs": [],
   "source": [
    "street_markets = pd.read_csv(\"../datasets/OpenDataBCN/street_markets.csv\")"
   ]
  },
  {
   "cell_type": "code",
   "execution_count": 32,
   "metadata": {
    "collapsed": false
   },
   "outputs": [],
   "source": [
    "cnames = dict({\n",
    "        '1': 'lat',\n",
    "        '2': 'long',\n",
    "        '3': 'event_type',\n",
    "        '4': 'address'\n",
    "    })\n",
    "\n",
    "street_markets.rename(columns={'NOM_CAPA':cnames['3'], 'LONGITUD':cnames['2'], 'LATITUD': cnames['1'],\n",
    "                               'ADRECA': cnames['4'] }, inplace = True)"
   ]
  },
  {
   "cell_type": "code",
   "execution_count": 34,
   "metadata": {
    "collapsed": false
   },
   "outputs": [],
   "source": [
    "street_markets = street_markets[list(cnames.values())]"
   ]
  },
  {
   "cell_type": "code",
   "execution_count": 38,
   "metadata": {
    "collapsed": false
   },
   "outputs": [
    {
     "data": {
      "text/plain": [
       "<pymongo.results.InsertManyResult at 0x120557588>"
      ]
     },
     "execution_count": 38,
     "metadata": {},
     "output_type": "execute_result"
    }
   ],
   "source": [
    "#insert documents in the collection\n",
    "collection.insert_many(street_markets.to_dict(\"records\"))"
   ]
  },
  {
   "cell_type": "code",
   "execution_count": 39,
   "metadata": {
    "collapsed": false
   },
   "outputs": [
    {
     "name": "stdout",
     "output_type": "stream",
     "text": [
      "{'_id': ObjectId('5bdb5e2025dc9a62d0254fd7'), 'lat': 41.385432, 'long': 2.129679, 'event_type': 'Mercats i fires al carrer', 'address': 'Pl Comas, 1'}\n",
      "{'_id': ObjectId('5bdb5e2025dc9a62d0254fd8'), 'lat': 41.406974, 'long': 2.133547, 'event_type': 'Mercats i fires al carrer', 'address': 'Pl Bonanova, 1'}\n",
      "{'_id': ObjectId('5bdb5e2025dc9a62d0254fd9'), 'lat': 41.401973, 'long': 2.172835, 'event_type': 'Mercats i fires al carrer', 'address': 'Pl Sagrada Família, 1'}\n",
      "{'_id': ObjectId('5bdb5e2025dc9a62d0254fda'), 'lat': 41.382985999999995, 'long': 2.171956, 'event_type': 'Mercats i fires al carrer', 'address': 'C la Rambla, 116'}\n",
      "{'_id': ObjectId('5bdb5e2025dc9a62d0254fdb'), 'lat': 41.385112, 'long': 2.129978, 'event_type': 'Mercats i fires al carrer', 'address': 'Pl Comas, 7*8'}\n",
      "{'_id': ObjectId('5bdb5e2025dc9a62d0254fdc'), 'lat': 41.376588, 'long': 2.1763049999999997, 'event_type': 'Mercats i fires al carrer', 'address': 'C la Rambla, 1'}\n",
      "{'_id': ObjectId('5bdb5e2025dc9a62d0254fdd'), 'lat': 41.383807, 'long': 2.1753560000000003, 'event_type': 'Mercats i fires al carrer', 'address': 'Pl Nova, 1'}\n",
      "{'_id': ObjectId('5bdb5e2025dc9a62d0254fde'), 'lat': 41.38005, 'long': 2.1749009999999998, 'event_type': 'Mercats i fires al carrer', 'address': 'Pl Reial, 1'}\n",
      "{'_id': ObjectId('5bdb5e2025dc9a62d0254fdf'), 'lat': 41.438652000000005, 'long': 2.170254, 'event_type': 'Mercats i fires al carrer', 'address': 'Pg Valldaura, 186*190'}\n",
      "{'_id': ObjectId('5bdb5e2025dc9a62d0254fe0'), 'lat': 41.441542999999996, 'long': 2.162557, 'event_type': 'Mercats i fires al carrer', 'address': 'C Antonio Machado, 1'}\n",
      "{'_id': ObjectId('5bdb5e2025dc9a62d0254fe1'), 'lat': 41.379568, 'long': 2.1617509999999998, 'event_type': 'Mercats i fires al carrer', 'address': \"C Comte d'Urgell, 1\"}\n",
      "{'_id': ObjectId('5bdb5e2025dc9a62d0254fe2'), 'lat': 41.404977, 'long': 2.17429, 'event_type': 'Mercats i fires al carrer', 'address': 'Av Gaudí, 1'}\n",
      "{'_id': ObjectId('5bdb5e2025dc9a62d0254fe3'), 'lat': 41.380078000000005, 'long': 2.1686509999999997, 'event_type': 'Mercats i fires al carrer', 'address': 'C Riera Baixa, 1'}\n",
      "{'_id': ObjectId('5bdb5e2025dc9a62d0254fe4'), 'lat': 41.400145, 'long': 2.122391, 'event_type': 'Mercats i fires al carrer', 'address': 'Pl Sarrià, 1'}\n",
      "{'_id': ObjectId('5bdb5e2025dc9a62d0254fe5'), 'lat': 41.408062, 'long': 2.188525, 'event_type': 'Mercats i fires al carrer', 'address': 'Pl Font i Sagué, 1'}\n",
      "{'_id': ObjectId('5bdb5e2025dc9a62d0254fe6'), 'lat': 41.400145, 'long': 2.122391, 'event_type': 'Mercats i fires al carrer', 'address': 'Pl Sarrià, 1'}\n",
      "{'_id': ObjectId('5bdb5e2025dc9a62d0254fe7'), 'lat': 41.435565999999994, 'long': 2.189853, 'event_type': 'Mercats i fires al carrer', 'address': 'Pl Comerç, 1'}\n",
      "{'_id': ObjectId('5bdb5e2025dc9a62d0254fe8'), 'lat': 41.401063, 'long': 2.185677, 'event_type': 'Mercats i fires al carrer', 'address': 'C Castillejos, 158'}\n",
      "{'_id': ObjectId('5bdb5e2025dc9a62d0254fe9'), 'lat': 41.387209000000006, 'long': 2.1425680000000003, 'event_type': 'Mercats i fires al carrer', 'address': 'Av Josep Tarradellas, 101'}\n",
      "{'_id': ObjectId('5bdb5e2025dc9a62d0254fea'), 'lat': 41.375198, 'long': 2.16459, 'event_type': 'Mercats i fires al carrer', 'address': 'Av Paral.lel, 104'}\n",
      "{'_id': ObjectId('5bdb5e2025dc9a62d0254feb'), 'lat': 41.352868, 'long': 2.1413439999999997, 'event_type': 'Mercats i fires al carrer', 'address': 'Pl Nou, 1'}\n",
      "{'_id': ObjectId('5bdb5e2025dc9a62d0254fec'), 'lat': 41.419458, 'long': 2.196495, 'event_type': 'Mercats i fires al carrer', 'address': 'C Menorca, 19*23'}\n",
      "{'_id': ObjectId('5bdb5e2025dc9a62d0254fed'), 'lat': 41.367959, 'long': 2.157731, 'event_type': 'Mercats i fires al carrer', 'address': 'Pg Santa Madrona, 28'}\n",
      "{'_id': ObjectId('5bdb5e2025dc9a62d0254fee'), 'lat': 41.435565999999994, 'long': 2.189853, 'event_type': 'Mercats i fires al carrer', 'address': 'Pl Comerç, 1'}\n",
      "{'_id': ObjectId('5bdb5e2025dc9a62d0254fef'), 'lat': 41.381065, 'long': 2.184543, 'event_type': 'Mercats i fires al carrer', 'address': 'Pl Pau Vila, 1'}\n",
      "{'_id': ObjectId('5bdb5e2025dc9a62d0254ff0'), 'lat': 41.386891, 'long': 2.132105, 'event_type': 'Mercats i fires al carrer', 'address': 'Pl Concòrdia, 1'}\n",
      "{'_id': ObjectId('5bdb5e2025dc9a62d0254ff1'), 'lat': 41.390101, 'long': 2.1809950000000002, 'event_type': 'Mercats i fires al carrer', 'address': 'Pg Lluís Companys, 7'}\n",
      "{'_id': ObjectId('5bdb5e2025dc9a62d0254ff2'), 'lat': 41.379033, 'long': 2.1404400000000003, 'event_type': 'Mercats i fires al carrer', 'address': 'Pl Països Catalans, 1*7'}\n",
      "{'_id': ObjectId('5bdb5e2025dc9a62d0254ff3'), 'lat': 41.400145, 'long': 2.122391, 'event_type': 'Mercats i fires al carrer', 'address': 'Pl Sarrià, 1'}\n",
      "{'_id': ObjectId('5bdb5e2025dc9a62d0254ff4'), 'lat': 41.382326, 'long': 2.173584, 'event_type': 'Mercats i fires al carrer', 'address': 'Pl Pi, 1'}\n",
      "{'_id': ObjectId('5bdb5e2025dc9a62d0254ff5'), 'lat': 41.374651, 'long': 2.178123, 'event_type': 'Mercats i fires al carrer', 'address': 'Moll Drassanes, 1'}\n",
      "{'_id': ObjectId('5bdb5e2025dc9a62d0254ff6'), 'lat': 41.381301, 'long': 2.163459, 'event_type': 'Mercats i fires al carrer', 'address': \"C Comte d'Urgell, 1\"}\n",
      "{'_id': ObjectId('5bdb5e2025dc9a62d0254ff7'), 'lat': 41.419232, 'long': 2.215137, 'event_type': 'Mercats i fires al carrer', 'address': 'C Jaume Huguet, 38'}\n",
      "{'_id': ObjectId('5bdb5e2025dc9a62d0254ff8'), 'lat': 41.382534, 'long': 2.173995, 'event_type': 'Mercats i fires al carrer', 'address': 'Pl Sant Josep Oriol, 1'}\n",
      "{'_id': ObjectId('5bdb5e2025dc9a62d0254ff9'), 'lat': 41.400145, 'long': 2.122391, 'event_type': 'Mercats i fires al carrer', 'address': 'Pl Sarrià, 1'}\n",
      "{'_id': ObjectId('5bdb5e2025dc9a62d0254ffa'), 'lat': 41.438652000000005, 'long': 2.170254, 'event_type': 'Mercats i fires al carrer', 'address': 'Pg Valldaura, 186*190'}\n",
      "{'_id': ObjectId('5bdb5e2025dc9a62d0254ffb'), 'lat': 41.387687, 'long': 2.1804650000000003, 'event_type': 'Mercats i fires al carrer', 'address': 'Pl Sant Agustí Vell, 2'}\n",
      "{'_id': ObjectId('5bdb5e2025dc9a62d0254ffc'), 'lat': 41.448428, 'long': 2.1835009999999997, 'event_type': 'Mercats i fires al carrer', 'address': 'Chafarinas, 21'}\n",
      "{'_id': ObjectId('5bdb5e2025dc9a62d0254ffd'), 'lat': 41.388269, 'long': 2.12879, 'event_type': 'Mercats i fires al carrer', 'address': 'Av Diagonal, 615'}\n",
      "{'_id': ObjectId('5bdb5e2025dc9a62d0254ffe'), 'lat': 41.401185, 'long': 2.201351, 'event_type': 'Mercats i fires al carrer', 'address': 'Rbla Poblenou, 72'}\n",
      "{'_id': ObjectId('5bdb5e2025dc9a62d0254fff'), 'lat': 41.408923, 'long': 2.185167, 'event_type': 'Mercats i fires al carrer', 'address': 'C Rogent, 28'}\n",
      "{'_id': ObjectId('5bdb5e2025dc9a62d0255000'), 'lat': 41.461504999999995, 'long': 2.178987, 'event_type': 'Mercats i fires al carrer', 'address': 'Av Rasos de Peguera, 27'}\n",
      "{'_id': ObjectId('5bdb5e2025dc9a62d0255001'), 'lat': 41.378442, 'long': 2.175442, 'event_type': 'Mercats i fires al carrer', 'address': 'C la Rambla, 25*31'}\n",
      "{'_id': ObjectId('5bdb5e2025dc9a62d0255002'), 'lat': 41.429928000000004, 'long': 2.161233, 'event_type': 'Mercats i fires al carrer', 'address': 'Pl Eivissa, 1'}\n",
      "{'_id': ObjectId('5bdb5e2025dc9a62d0255003'), 'lat': 41.401309999999995, 'long': 2.1867520000000003, 'event_type': 'Mercats i fires al carrer', 'address': 'Av Meridiana, 69'}\n",
      "{'_id': ObjectId('5bdb5e2025dc9a62d0255004'), 'lat': 41.460702000000005, 'long': 2.174049, 'event_type': 'Mercats i fires al carrer', 'address': 'Av Rasos de Peguera, 172'}\n",
      "{'_id': ObjectId('5bdb5e2025dc9a62d0255005'), 'lat': 41.413511, 'long': 2.153138, 'event_type': 'Mercats i fires al carrer', 'address': 'C Olot, 7'}\n",
      "{'_id': ObjectId('5bdb5e2025dc9a62d0255006'), 'lat': 41.379836, 'long': 2.168533, 'event_type': 'Mercats i fires al carrer', 'address': 'Rbla Raval, 1'}\n",
      "{'_id': ObjectId('5bdb5e2025dc9a62d0255007'), 'lat': 41.416090999999994, 'long': 2.175667, 'event_type': 'Mercats i fires al carrer', 'address': 'C Renaixença, 9-11'}\n",
      "{'_id': ObjectId('5bdb5e2025dc9a62d0255008'), 'lat': 41.405311, 'long': 2.138243, 'event_type': 'Mercats i fires al carrer', 'address': 'Pl Frederic Soler, 1'}\n",
      "{'_id': ObjectId('5bdb5e2025dc9a62d0255009'), 'lat': 41.382326, 'long': 2.173584, 'event_type': 'Mercats i fires al carrer', 'address': 'Pl Pi, 1'}\n",
      "{'_id': ObjectId('5bdb5e2025dc9a62d025500a'), 'lat': 41.388663, 'long': 2.130369, 'event_type': 'Mercats i fires al carrer', 'address': 'Av Diagonal, 601'}\n"
     ]
    }
   ],
   "source": [
    "for d in collection.find():\n",
    "    print (d)"
   ]
  },
  {
   "cell_type": "code",
   "execution_count": null,
   "metadata": {
    "collapsed": true
   },
   "outputs": [],
   "source": []
  }
 ],
 "metadata": {
  "anaconda-cloud": {},
  "kernelspec": {
   "display_name": "Python [conda env:py3p6]",
   "language": "python",
   "name": "conda-env-py3p6-py"
  },
  "language_info": {
   "codemirror_mode": {
    "name": "ipython",
    "version": 3
   },
   "file_extension": ".py",
   "mimetype": "text/x-python",
   "name": "python",
   "nbconvert_exporter": "python",
   "pygments_lexer": "ipython3",
   "version": "3.6.2"
  }
 },
 "nbformat": 4,
 "nbformat_minor": 1
}
