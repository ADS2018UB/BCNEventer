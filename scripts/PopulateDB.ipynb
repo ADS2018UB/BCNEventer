{
 "cells": [
  {
   "cell_type": "markdown",
   "metadata": {},
   "source": [
    "## Create db and collections"
   ]
  },
  {
   "cell_type": "code",
   "execution_count": 1,
   "metadata": {
    "collapsed": false,
    "scrolled": true
   },
   "outputs": [
    {
     "name": "stdout",
     "output_type": "stream",
     "text": [
      "Connected successfully!!!\n"
     ]
    },
    {
     "data": {
      "text/plain": [
       "MongoClient(host=['localhost:27017'], document_class=dict, tz_aware=False, connect=True)"
      ]
     },
     "execution_count": 1,
     "metadata": {},
     "output_type": "execute_result"
    }
   ],
   "source": [
    "import pymongo\n",
    "\n",
    "# Connection to Mongo DB\n",
    "try:\n",
    "    conn=pymongo.MongoClient()\n",
    "    print (\"Connected successfully!!!\")\n",
    "except pymongo.errors.ConnectionFailure as e:\n",
    "    print (\"Could not connect to MongoDB: %s\" % e) \n",
    "conn"
   ]
  },
  {
   "cell_type": "code",
   "execution_count": 4,
   "metadata": {
    "collapsed": false
   },
   "outputs": [
    {
     "name": "stdout",
     "output_type": "stream",
     "text": [
      "Database(MongoClient(host=['localhost:27017'], document_class=dict, tz_aware=False, connect=True), 'events')\n"
     ]
    },
    {
     "data": {
      "text/plain": [
       "['admin', 'config', 'events', 'local']"
      ]
     },
     "execution_count": 4,
     "metadata": {},
     "output_type": "execute_result"
    }
   ],
   "source": [
    "# create db\n",
    "db = conn['events']\n",
    "print (db)\n",
    "conn.database_names()\n",
    "# Empty db doesn't show"
   ]
  },
  {
   "cell_type": "markdown",
   "metadata": {},
   "source": [
    "## Read data"
   ]
  },
  {
   "cell_type": "code",
   "execution_count": 5,
   "metadata": {
    "collapsed": false
   },
   "outputs": [
    {
     "name": "stdout",
     "output_type": "stream",
     "text": [
      "The autoreload extension is already loaded. To reload it, use:\n",
      "  %reload_ext autoreload\n"
     ]
    }
   ],
   "source": [
    "import pandas as pd\n",
    "import library as lib\n",
    "import autoreload\n",
    "%load_ext autoreload\n",
    "%autoreload 2"
   ]
  },
  {
   "cell_type": "code",
   "execution_count": 6,
   "metadata": {
    "collapsed": true
   },
   "outputs": [],
   "source": [
    "cnames = ['lat', #0\n",
    "          'long', #1\n",
    "          'event_type', #2\n",
    "          'address', #3 \n",
    "          'start_date', #4\n",
    "          'end_date', #5\n",
    "          'event_info', #6\n",
    "          'web', #7\n",
    "          'image', #8\n",
    "          'tickets', #9\n",
    "          'year', #10\n",
    "          'location', #11\n",
    "          'event_name', #12\n",
    "          'price', #13\n",
    "          'category', #14\n",
    "         ] "
   ]
  },
  {
   "cell_type": "markdown",
   "metadata": {},
   "source": [
    "### Exceed data"
   ]
  },
  {
   "cell_type": "code",
   "execution_count": 24,
   "metadata": {
    "collapsed": false
   },
   "outputs": [
    {
     "name": "stdout",
     "output_type": "stream",
     "text": [
      "Xceed data successfully written to DB!!!\n"
     ]
    }
   ],
   "source": [
    "col_xceed = db.exceed\n",
    "xceed = lib.load_and_prepare_data(cnames, lib.rename_cols_exceed, \"../datasets/Xceed/xceed_barcelona.csv\")\n",
    "lib.write_db(xceed, \"Xceed\", col_xceed)"
   ]
  },
  {
   "cell_type": "markdown",
   "metadata": {},
   "source": [
    "### Meetup data"
   ]
  },
  {
   "cell_type": "code",
   "execution_count": 25,
   "metadata": {
    "collapsed": false
   },
   "outputs": [
    {
     "name": "stdout",
     "output_type": "stream",
     "text": [
      "Meetup data successfully written to DB!!!\n"
     ]
    }
   ],
   "source": [
    "col_meetup = db.meetup\n",
    "meetup = lib.load_and_prepare_data(cnames, lib.rename_cols_meetup, \"../datasets/MeetUp/events_Barcelona.csv\", delimiter_ = \";\")\n",
    "lib.write_db(meetup, \"Meetup\", col_meetup)"
   ]
  },
  {
   "cell_type": "code",
   "execution_count": 28,
   "metadata": {
    "collapsed": false
   },
   "outputs": [
    {
     "name": "stdout",
     "output_type": "stream",
     "text": [
      "{'_id': ObjectId('5bde177125dc9a905c39ab4c'), 'event_name': 'SIGHT pres. Adam Beyer, Fer BR & Steve Bimbelan', 'start_date': 'Friday, 2 November', 'location': 'Pacha Barcelona', 'event_info': 'House  Techno  Tech house', 'price': 'FREE '}\n",
      "{'_id': ObjectId('5bde177125dc9a905c39ab4d'), 'event_name': 'SIGHT pres. Claptone, Squire & Steve Bimbelan', 'start_date': 'Friday, 9 November', 'location': 'Pacha Barcelona', 'event_info': 'House  Techno  Tech house', 'price': 'FREE '}\n",
      "{'_id': ObjectId('5bde177125dc9a905c39ab4e'), 'event_name': 'Halloween Hangover w/ Steve Lawler & Ten Walls LIVE', 'start_date': 'Thursday, 1 November', 'location': 'Bikini', 'event_info': 'Hits  House  Techno', 'price': ' €10.00'}\n",
      "{'_id': ObjectId('5bde177125dc9a905c39ab4f'), 'event_name': 'Pacha-Chá - La Castañada-chá | Every Thursday', 'start_date': 'Thursday, 1 November', 'location': 'Pacha Barcelona', 'event_info': 'Hits  Latin  Reggaeton', 'price': 'FREE '}\n",
      "{'_id': ObjectId('5bde177125dc9a905c39ab50'), 'event_name': 'B Club - Victor Fernandez - All Night Long', 'start_date': 'Thursday, 1 November', 'location': 'City Hall', 'event_info': 'Techno  Tech house', 'price': ' €10.00'}\n",
      "{'_id': ObjectId('5bde177125dc9a905c39ab51'), 'event_name': 'NOMADS pres: Jean Claude Ades, Magdalena at Sala Bikini', 'start_date': 'Saturday, 3 November', 'location': 'Bikini', 'event_info': 'Deep House  Tech house  House', 'price': ' €5.00'}\n",
      "{'_id': ObjectId('5bde177125dc9a905c39ab52'), 'event_name': 'Tama Sumo @ The Loft & WhoMadeWho @ Razzclub', 'start_date': 'Saturday, 3 November', 'location': 'Razzmatazz', 'event_info': 'Electronic  Techno  House', 'price': ' €15.50'}\n",
      "{'_id': ObjectId('5bde177125dc9a905c39ab53'), 'event_name': 'R33 Barcelona with STACEY PULLEN & MrBosco', 'start_date': 'Saturday, 3 November', 'location': 'R33 Club', 'event_info': 'Techno  Minimal  Electronic', 'price': ' €12.00'}\n",
      "{'_id': ObjectId('5bde177125dc9a905c39ab54'), 'event_name': 'INPUT presents Jamie Jones', 'start_date': 'Wednesday, 5 December', 'location': 'INPUT Dance Club', 'event_info': 'Techno  Tech house', 'price': ' €10.00'}\n",
      "{'_id': ObjectId('5bde177125dc9a905c39ab55'), 'event_name': 'Afterwork HALLOWEEN with RAUL ORELLANA. OD Barcelona Hotel. Entrada libre', 'start_date': 'Thursday, 1 November', 'location': 'OD Barcelona', 'event_info': 'Deep House', 'price': 'FREE '}\n",
      "{'_id': ObjectId('5bde177125dc9a905c39ab56'), 'event_name': 'Halloween Hangover w/ Steve Lawler & Ten Walls LIVE', 'start_date': 'Thursday, 1 November', 'location': 'Bikini', 'event_info': 'Hits  House  Techno', 'price': ' €10.00'}\n",
      "{'_id': ObjectId('5bde177125dc9a905c39ab57'), 'event_name': 'ETM & FRIENDS .- EP RELEASE PARTY', 'start_date': 'Thursday, 1 November', 'location': 'Garage 442', 'event_info': 'Electronic  Trap  UK Garage', 'price': 'FREE '}\n",
      "{'_id': ObjectId('5bde177125dc9a905c39ab58'), 'event_name': 'Halloween - Late CheckOut Thursdays', 'start_date': 'Thursday, 1 November', 'location': 'Otto Zutz', 'event_info': 'Hip hop  R&B  Reggaeton', 'price': 'FREE '}\n",
      "{'_id': ObjectId('5bde177125dc9a905c39ab59'), 'event_name': 'Obsession | Halloween', 'start_date': 'Thursday, 1 November', 'location': 'Bling Bling', 'event_info': 'House  Hits', 'price': 'FREE '}\n",
      "{'_id': ObjectId('5bde177125dc9a905c39ab5a'), 'event_name': 'Bcn Or Die | Every Thursday', 'start_date': 'Thursday, 1 November', 'location': 'Jamboree Dance Club', 'event_info': 'Hip hop  R&B', 'price': 'FREE '}\n",
      "{'_id': ObjectId('5bde177125dc9a905c39ab5b'), 'event_name': 'Crazy | Every Thursday', 'start_date': 'Thursday, 1 November', 'location': 'Catwalk', 'event_info': 'Hip hop  R&B  Urban', 'price': 'FREE '}\n",
      "{'_id': ObjectId('5bde177125dc9a905c39ab5c'), 'event_name': '#Wild | Every Thursday', 'start_date': 'Thursday, 1 November', 'location': 'Opium Barcelona', 'event_info': 'Electro  House  Dance', 'price': ' €10.00'}\n",
      "{'_id': ObjectId('5bde177125dc9a905c39ab5d'), 'event_name': 'Bcn or Die', 'start_date': 'Thursday, 1 November', 'location': 'Tarantos Club', 'event_info': 'Indie - Rock  R&B  Pop', 'price': ' €5.00'}\n",
      "{'_id': ObjectId('5bde177125dc9a905c39ab5e'), 'event_name': 'Swag City', 'start_date': 'Thursday, 1 November', 'location': 'Shoko Barcelona', 'event_info': 'Reggaeton  R&B  Hip hop', 'price': 'FREE '}\n",
      "{'_id': ObjectId('5bde177125dc9a905c39ab5f'), 'event_name': 'Pacha-Chá - La Castañada-chá | Every Thursday', 'start_date': 'Thursday, 1 November', 'location': 'Pacha Barcelona', 'event_info': 'Hits  Latin  Reggaeton', 'price': 'FREE '}\n",
      "{'_id': ObjectId('5bde177125dc9a905c39ab60'), 'event_name': 'Moog Djs: Uroz', 'start_date': 'Thursday, 1 November', 'location': 'Moog', 'event_info': 'Techno', 'price': ' €5.00'}\n",
      "{'_id': ObjectId('5bde177125dc9a905c39ab61'), 'event_name': 'B Club - Victor Fernandez - All Night Long', 'start_date': 'Thursday, 1 November', 'location': 'City Hall', 'event_info': 'Techno  Tech house', 'price': ' €10.00'}\n",
      "{'_id': ObjectId('5bde177125dc9a905c39ab62'), 'event_name': 'Traumraum', 'start_date': 'Thursday, 1 November', 'location': 'Macarena Club', 'event_info': 'Techno', 'price': 'FREE '}\n",
      "{'_id': ObjectId('5bde177125dc9a905c39ab63'), 'event_name': 'La Gozadera - Fiesta Latina #FREE', 'start_date': 'Thursday, 1 November', 'location': 'La Fira Provença', 'event_info': 'Latin  Reggaeton  Hits', 'price': 'FREE '}\n",
      "{'_id': ObjectId('5bde177125dc9a905c39ab64'), 'event_name': 'INPUT pres. Open To Close with Skream', 'start_date': 'Friday, 2 November', 'location': 'INPUT Dance Club', 'event_info': 'Techno  Tech house', 'price': ' €5.00'}\n",
      "{'_id': ObjectId('5bde177125dc9a905c39ab65'), 'event_name': 'SIGHT pres. Adam Beyer, Fer BR & Steve Bimbelan', 'start_date': 'Friday, 2 November', 'location': 'Pacha Barcelona', 'event_info': 'House  Techno  Tech house', 'price': 'FREE '}\n",
      "{'_id': ObjectId('5bde177125dc9a905c39ab66'), 'event_name': 'Pachanga Boys @ The Loft', 'start_date': 'Friday, 2 November', 'location': 'Razzmatazz', 'event_info': 'Electronic  Techno  House', 'price': ' €15.50'}\n",
      "{'_id': ObjectId('5bde177125dc9a905c39ab67'), 'event_name': 'Halloween - BadTeddy Fridays', 'start_date': 'Friday, 2 November', 'location': 'Otto Zutz', 'event_info': 'Hits  Hip hop', 'price': 'FREE '}\n",
      "{'_id': ObjectId('5bde177125dc9a905c39ab68'), 'event_name': 'Circus - Summer Love | Every Friday', 'start_date': 'Friday, 2 November', 'location': 'Catwalk', 'event_info': 'Hip hop  Urban  Latin', 'price': 'FREE '}\n",
      "{'_id': ObjectId('5bde177125dc9a905c39ab69'), 'event_name': 'Loyalty | Every Friday', 'start_date': 'Friday, 2 November', 'location': 'Opium Barcelona', 'event_info': 'Electronic  Hip hop  R&B', 'price': 'FREE '}\n",
      "{'_id': ObjectId('5bde177125dc9a905c39ab6a'), 'event_name': \"Fashion's Night BCN\", 'start_date': 'Friday, 2 November', 'location': 'Shoko Barcelona', 'event_info': 'Hip hop  R&B', 'price': 'FREE '}\n",
      "{'_id': ObjectId('5bde177125dc9a905c39ab6b'), 'event_name': '¡Viernes noche!', 'start_date': 'Friday, 2 November', 'location': 'Oak Barcelona', 'event_info': 'Hits  Latin', 'price': 'FREE '}\n",
      "{'_id': ObjectId('5bde177125dc9a905c39ab6c'), 'event_name': 'Viernes - Halloween 2018', 'start_date': 'Friday, 2 November', 'location': 'Los Altos', 'event_info': 'Hits  Latin', 'price': 'FREE '}\n",
      "{'_id': ObjectId('5bde177125dc9a905c39ab6d'), 'event_name': 'Müsex Industries Showcase', 'start_date': 'Friday, 2 November', 'location': 'Macarena Club', 'event_info': 'Techno', 'price': 'FREE '}\n",
      "{'_id': ObjectId('5bde177125dc9a905c39ab6e'), 'event_name': 'BoomBastic Club - Luv Messenger & Nyahbingi Sound', 'start_date': 'Friday, 2 November', 'location': 'BoomBastic Club', 'event_info': 'Reggae - Dancehall', 'price': ' €5.00'}\n",
      "{'_id': ObjectId('5bde177125dc9a905c39ab6f'), 'event_name': 'DURA @ REGGAETON BARCELONA', 'start_date': 'Friday, 2 November', 'location': 'Reggaeton Barcelona', 'event_info': 'Dance  Reggae - Dancehall  Reggaeton', 'price': 'FREE '}\n",
      "{'_id': ObjectId('5bde177125dc9a905c39ab70'), 'event_name': 'LATIN PARTY - LA FIRA VILLARROEL - FRIDAY', 'start_date': 'Friday, 2 November', 'location': 'La Fira Villarroel', 'event_info': 'Hits  Latin  Reggaeton', 'price': 'FREE '}\n",
      "{'_id': ObjectId('5bde177125dc9a905c39ab71'), 'event_name': 'Room FM w. Alfonso León & Philippe Liard', 'start_date': 'Saturday, 3 November', 'location': 'Room FM', 'event_info': 'Techno  Tech house', 'price': 'FREE '}\n",
      "{'_id': ObjectId('5bde177125dc9a905c39ab72'), 'event_name': \"Back to 90 Rooftop Party' - Hip Hop, Dance, R&B, Britpop & French House\", 'start_date': 'Saturday, 3 November', 'location': 'Hotel Barcelona Center', 'event_info': 'Pop  Hip hop  Dance', 'price': ' €12.00'}\n",
      "{'_id': ObjectId('5bde23f125dc9adb78e84fcc'), 'event_name': 'SIGHT pres. Adam Beyer, Fer BR & Steve Bimbelan', 'start_date': 'Friday, 2 November', 'location': 'Pacha Barcelona', 'event_info': 'House  Techno  Tech house', 'price': 'FREE '}\n",
      "{'_id': ObjectId('5bde23f125dc9adb78e84fcd'), 'event_name': 'SIGHT pres. Claptone, Squire & Steve Bimbelan', 'start_date': 'Friday, 9 November', 'location': 'Pacha Barcelona', 'event_info': 'House  Techno  Tech house', 'price': 'FREE '}\n",
      "{'_id': ObjectId('5bde23f125dc9adb78e84fce'), 'event_name': 'Halloween Hangover w/ Steve Lawler & Ten Walls LIVE', 'start_date': 'Thursday, 1 November', 'location': 'Bikini', 'event_info': 'Hits  House  Techno', 'price': ' €10.00'}\n",
      "{'_id': ObjectId('5bde23f125dc9adb78e84fcf'), 'event_name': 'Pacha-Chá - La Castañada-chá | Every Thursday', 'start_date': 'Thursday, 1 November', 'location': 'Pacha Barcelona', 'event_info': 'Hits  Latin  Reggaeton', 'price': 'FREE '}\n",
      "{'_id': ObjectId('5bde23f125dc9adb78e84fd0'), 'event_name': 'B Club - Victor Fernandez - All Night Long', 'start_date': 'Thursday, 1 November', 'location': 'City Hall', 'event_info': 'Techno  Tech house', 'price': ' €10.00'}\n",
      "{'_id': ObjectId('5bde23f125dc9adb78e84fd1'), 'event_name': 'NOMADS pres: Jean Claude Ades, Magdalena at Sala Bikini', 'start_date': 'Saturday, 3 November', 'location': 'Bikini', 'event_info': 'Deep House  Tech house  House', 'price': ' €5.00'}\n",
      "{'_id': ObjectId('5bde23f125dc9adb78e84fd2'), 'event_name': 'Tama Sumo @ The Loft & WhoMadeWho @ Razzclub', 'start_date': 'Saturday, 3 November', 'location': 'Razzmatazz', 'event_info': 'Electronic  Techno  House', 'price': ' €15.50'}\n",
      "{'_id': ObjectId('5bde23f125dc9adb78e84fd3'), 'event_name': 'R33 Barcelona with STACEY PULLEN & MrBosco', 'start_date': 'Saturday, 3 November', 'location': 'R33 Club', 'event_info': 'Techno  Minimal  Electronic', 'price': ' €12.00'}\n",
      "{'_id': ObjectId('5bde23f125dc9adb78e84fd4'), 'event_name': 'INPUT presents Jamie Jones', 'start_date': 'Wednesday, 5 December', 'location': 'INPUT Dance Club', 'event_info': 'Techno  Tech house', 'price': ' €10.00'}\n",
      "{'_id': ObjectId('5bde23f125dc9adb78e84fd5'), 'event_name': 'Afterwork HALLOWEEN with RAUL ORELLANA. OD Barcelona Hotel. Entrada libre', 'start_date': 'Thursday, 1 November', 'location': 'OD Barcelona', 'event_info': 'Deep House', 'price': 'FREE '}\n",
      "{'_id': ObjectId('5bde23f125dc9adb78e84fd6'), 'event_name': 'Halloween Hangover w/ Steve Lawler & Ten Walls LIVE', 'start_date': 'Thursday, 1 November', 'location': 'Bikini', 'event_info': 'Hits  House  Techno', 'price': ' €10.00'}\n",
      "{'_id': ObjectId('5bde23f125dc9adb78e84fd7'), 'event_name': 'ETM & FRIENDS .- EP RELEASE PARTY', 'start_date': 'Thursday, 1 November', 'location': 'Garage 442', 'event_info': 'Electronic  Trap  UK Garage', 'price': 'FREE '}\n",
      "{'_id': ObjectId('5bde23f125dc9adb78e84fd8'), 'event_name': 'Halloween - Late CheckOut Thursdays', 'start_date': 'Thursday, 1 November', 'location': 'Otto Zutz', 'event_info': 'Hip hop  R&B  Reggaeton', 'price': 'FREE '}\n",
      "{'_id': ObjectId('5bde23f125dc9adb78e84fd9'), 'event_name': 'Obsession | Halloween', 'start_date': 'Thursday, 1 November', 'location': 'Bling Bling', 'event_info': 'House  Hits', 'price': 'FREE '}\n",
      "{'_id': ObjectId('5bde23f125dc9adb78e84fda'), 'event_name': 'Bcn Or Die | Every Thursday', 'start_date': 'Thursday, 1 November', 'location': 'Jamboree Dance Club', 'event_info': 'Hip hop  R&B', 'price': 'FREE '}\n",
      "{'_id': ObjectId('5bde23f125dc9adb78e84fdb'), 'event_name': 'Crazy | Every Thursday', 'start_date': 'Thursday, 1 November', 'location': 'Catwalk', 'event_info': 'Hip hop  R&B  Urban', 'price': 'FREE '}\n",
      "{'_id': ObjectId('5bde23f125dc9adb78e84fdc'), 'event_name': '#Wild | Every Thursday', 'start_date': 'Thursday, 1 November', 'location': 'Opium Barcelona', 'event_info': 'Electro  House  Dance', 'price': ' €10.00'}\n",
      "{'_id': ObjectId('5bde23f125dc9adb78e84fdd'), 'event_name': 'Bcn or Die', 'start_date': 'Thursday, 1 November', 'location': 'Tarantos Club', 'event_info': 'Indie - Rock  R&B  Pop', 'price': ' €5.00'}\n",
      "{'_id': ObjectId('5bde23f125dc9adb78e84fde'), 'event_name': 'Swag City', 'start_date': 'Thursday, 1 November', 'location': 'Shoko Barcelona', 'event_info': 'Reggaeton  R&B  Hip hop', 'price': 'FREE '}\n",
      "{'_id': ObjectId('5bde23f125dc9adb78e84fdf'), 'event_name': 'Pacha-Chá - La Castañada-chá | Every Thursday', 'start_date': 'Thursday, 1 November', 'location': 'Pacha Barcelona', 'event_info': 'Hits  Latin  Reggaeton', 'price': 'FREE '}\n",
      "{'_id': ObjectId('5bde23f125dc9adb78e84fe0'), 'event_name': 'Moog Djs: Uroz', 'start_date': 'Thursday, 1 November', 'location': 'Moog', 'event_info': 'Techno', 'price': ' €5.00'}\n",
      "{'_id': ObjectId('5bde23f125dc9adb78e84fe1'), 'event_name': 'B Club - Victor Fernandez - All Night Long', 'start_date': 'Thursday, 1 November', 'location': 'City Hall', 'event_info': 'Techno  Tech house', 'price': ' €10.00'}\n",
      "{'_id': ObjectId('5bde23f125dc9adb78e84fe2'), 'event_name': 'Traumraum', 'start_date': 'Thursday, 1 November', 'location': 'Macarena Club', 'event_info': 'Techno', 'price': 'FREE '}\n",
      "{'_id': ObjectId('5bde23f125dc9adb78e84fe3'), 'event_name': 'La Gozadera - Fiesta Latina #FREE', 'start_date': 'Thursday, 1 November', 'location': 'La Fira Provença', 'event_info': 'Latin  Reggaeton  Hits', 'price': 'FREE '}\n",
      "{'_id': ObjectId('5bde23f125dc9adb78e84fe4'), 'event_name': 'INPUT pres. Open To Close with Skream', 'start_date': 'Friday, 2 November', 'location': 'INPUT Dance Club', 'event_info': 'Techno  Tech house', 'price': ' €5.00'}\n",
      "{'_id': ObjectId('5bde23f125dc9adb78e84fe5'), 'event_name': 'SIGHT pres. Adam Beyer, Fer BR & Steve Bimbelan', 'start_date': 'Friday, 2 November', 'location': 'Pacha Barcelona', 'event_info': 'House  Techno  Tech house', 'price': 'FREE '}\n",
      "{'_id': ObjectId('5bde23f125dc9adb78e84fe6'), 'event_name': 'Pachanga Boys @ The Loft', 'start_date': 'Friday, 2 November', 'location': 'Razzmatazz', 'event_info': 'Electronic  Techno  House', 'price': ' €15.50'}\n",
      "{'_id': ObjectId('5bde23f125dc9adb78e84fe7'), 'event_name': 'Halloween - BadTeddy Fridays', 'start_date': 'Friday, 2 November', 'location': 'Otto Zutz', 'event_info': 'Hits  Hip hop', 'price': 'FREE '}\n",
      "{'_id': ObjectId('5bde23f125dc9adb78e84fe8'), 'event_name': 'Circus - Summer Love | Every Friday', 'start_date': 'Friday, 2 November', 'location': 'Catwalk', 'event_info': 'Hip hop  Urban  Latin', 'price': 'FREE '}\n",
      "{'_id': ObjectId('5bde23f125dc9adb78e84fe9'), 'event_name': 'Loyalty | Every Friday', 'start_date': 'Friday, 2 November', 'location': 'Opium Barcelona', 'event_info': 'Electronic  Hip hop  R&B', 'price': 'FREE '}\n",
      "{'_id': ObjectId('5bde23f125dc9adb78e84fea'), 'event_name': \"Fashion's Night BCN\", 'start_date': 'Friday, 2 November', 'location': 'Shoko Barcelona', 'event_info': 'Hip hop  R&B', 'price': 'FREE '}\n",
      "{'_id': ObjectId('5bde23f125dc9adb78e84feb'), 'event_name': '¡Viernes noche!', 'start_date': 'Friday, 2 November', 'location': 'Oak Barcelona', 'event_info': 'Hits  Latin', 'price': 'FREE '}\n",
      "{'_id': ObjectId('5bde23f125dc9adb78e84fec'), 'event_name': 'Viernes - Halloween 2018', 'start_date': 'Friday, 2 November', 'location': 'Los Altos', 'event_info': 'Hits  Latin', 'price': 'FREE '}\n",
      "{'_id': ObjectId('5bde23f125dc9adb78e84fed'), 'event_name': 'Müsex Industries Showcase', 'start_date': 'Friday, 2 November', 'location': 'Macarena Club', 'event_info': 'Techno', 'price': 'FREE '}\n",
      "{'_id': ObjectId('5bde23f125dc9adb78e84fee'), 'event_name': 'BoomBastic Club - Luv Messenger & Nyahbingi Sound', 'start_date': 'Friday, 2 November', 'location': 'BoomBastic Club', 'event_info': 'Reggae - Dancehall', 'price': ' €5.00'}\n",
      "{'_id': ObjectId('5bde23f125dc9adb78e84fef'), 'event_name': 'DURA @ REGGAETON BARCELONA', 'start_date': 'Friday, 2 November', 'location': 'Reggaeton Barcelona', 'event_info': 'Dance  Reggae - Dancehall  Reggaeton', 'price': 'FREE '}\n",
      "{'_id': ObjectId('5bde23f125dc9adb78e84ff0'), 'event_name': 'LATIN PARTY - LA FIRA VILLARROEL - FRIDAY', 'start_date': 'Friday, 2 November', 'location': 'La Fira Villarroel', 'event_info': 'Hits  Latin  Reggaeton', 'price': 'FREE '}\n",
      "{'_id': ObjectId('5bde23f125dc9adb78e84ff1'), 'event_name': 'Room FM w. Alfonso León & Philippe Liard', 'start_date': 'Saturday, 3 November', 'location': 'Room FM', 'event_info': 'Techno  Tech house', 'price': 'FREE '}\n",
      "{'_id': ObjectId('5bde23f125dc9adb78e84ff2'), 'event_name': \"Back to 90 Rooftop Party' - Hip Hop, Dance, R&B, Britpop & French House\", 'start_date': 'Saturday, 3 November', 'location': 'Hotel Barcelona Center', 'event_info': 'Pop  Hip hop  Dance', 'price': ' €12.00'}\n",
      "{'_id': ObjectId('5bec569d98a2cd6fb8a78caa'), 'event_name': 'PRISM 1st anniversary with Ben Klock', 'start_date': 'Saturday, 17 November', 'location': 'INPUT Dance Club', 'event_info': 'Techno  Tech house', 'price': ' €18.00', 'category': 'Music'}\n",
      "{'_id': ObjectId('5bec569d98a2cd6fb8a78cab'), 'event_name': 'NOMADS pres: Sebastien Leger, Hraach, Nick Varon', 'start_date': 'Saturday, 17 November', 'location': 'Bikini', 'event_info': 'Deep House  Tech house  House', 'price': ' €10.00', 'category': 'Music'}\n",
      "{'_id': ObjectId('5bec569d98a2cd6fb8a78cac'), 'event_name': 'B Club - Marco Faraone & Victor Fernandez', 'start_date': 'Thursday, 15 November', 'location': 'City Hall', 'event_info': 'Techno  Tech house', 'price': ' €10.00', 'category': 'Music'}\n",
      "{'_id': ObjectId('5bec569d98a2cd6fb8a78cad'), 'event_name': 'SIGHT pres. Apollonia & Mahony', 'start_date': 'Friday, 16 November', 'location': 'Pacha Barcelona', 'event_info': 'House  Techno  Tech house', 'price': 'FREE ', 'category': 'Music'}\n",
      "{'_id': ObjectId('5bec569d98a2cd6fb8a78cae'), 'event_name': 'R33 Barcelona present: Anja Schneider', 'start_date': 'Saturday, 17 November', 'location': 'R33 Club', 'event_info': 'Techno  Minimal  Electronic  Electro', 'price': ' €15.00', 'category': 'Music'}\n",
      "{'_id': ObjectId('5bec569d98a2cd6fb8a78caf'), 'event_name': 'Blackstone pres. Chelina Manuhutu', 'start_date': 'Sunday, 18 November', 'location': 'Opium Barcelona', 'event_info': 'Electro  House  Dance', 'price': 'FREE ', 'category': 'Music'}\n",
      "{'_id': ObjectId('5bec569d98a2cd6fb8a78cb0'), 'event_name': 'This Side UP w/ Zombies in Miami Live - Moderna  (FREE ALL NIGHT LONG)', 'start_date': 'Friday, 16 November', 'location': 'This Side UP', 'event_info': 'Electro  Techno', 'price': 'FREE ', 'category': 'Music'}\n",
      "{'_id': ObjectId('5bec569d98a2cd6fb8a78cb1'), 'event_name': 'Acid Arab @ The Loft & Fuego w/ DL Blando @ Razzclub', 'start_date': 'Friday, 16 November', 'location': 'Razzmatazz', 'event_info': 'Electronic  Techno  House', 'price': ' €15.50', 'category': 'Music'}\n",
      "{'_id': ObjectId('5bec569d98a2cd6fb8a78cb2'), 'event_name': 'LOCKED pres. Modeselektor - Dj Set', 'start_date': 'Friday, 16 November', 'location': 'INPUT Dance Club', 'event_info': 'Techno  Tech house', 'price': ' €15.00', 'category': 'Music'}\n",
      "{'_id': ObjectId('5bec569d98a2cd6fb8a78cb3'), 'event_name': 'SPECTRUM SEQUENCE w/ MOREENO', 'start_date': 'Wednesday, 14 November', 'location': 'Garage 442', 'event_info': 'Electronic  Electro  Funky', 'price': 'FREE ', 'category': 'Music'}\n",
      "{'_id': ObjectId('5bec569d98a2cd6fb8a78cb4'), 'event_name': 'BACK2BLACK - Opening party', 'start_date': 'Wednesday, 14 November', 'location': 'Pacha Barcelona', 'event_info': 'Hip hop  R&B', 'price': 'FREE ', 'category': 'Music'}\n",
      "{'_id': ObjectId('5bec569d98a2cd6fb8a78cb5'), 'event_name': 'Pop That Party - Undeey (Dj Set)', 'start_date': 'Wednesday, 14 November', 'location': 'Shoko Barcelona', 'event_info': 'Hip hop  R&B  Reggae - Dancehall', 'price': 'FREE ', 'category': 'Music'}\n",
      "{'_id': ObjectId('5bec569d98a2cd6fb8a78cb6'), 'event_name': 'Mistress', 'start_date': 'Wednesday, 14 November', 'location': 'Macarena Club', 'event_info': 'Techno', 'price': 'FREE ', 'category': 'Music'}\n",
      "{'_id': ObjectId('5bec569d98a2cd6fb8a78cb7'), 'event_name': 'Ladies Night | Every Wednesday', 'start_date': 'Wednesday, 14 November', 'location': 'Opium Barcelona', 'event_info': 'House  Hits  Electronic', 'price': 'FREE ', 'category': 'Music'}\n",
      "{'_id': ObjectId('5bec569d98a2cd6fb8a78cb8'), 'event_name': 'Dj Mastie', 'start_date': 'Wednesday, 14 November', 'location': 'Jamboree Dance Club', 'event_info': 'Hip hop  R&B  Urban', 'price': nan, 'category': 'Music'}\n",
      "{'_id': ObjectId('5bec569d98a2cd6fb8a78cb9'), 'event_name': 'El Dirty de Razzmatazz', 'start_date': 'Wednesday, 14 November', 'location': 'Razzmatazz', 'event_info': 'Hits  Dance  Pop', 'price': ' €11.50', 'category': 'Music'}\n",
      "{'_id': ObjectId('5bec569d98a2cd6fb8a78cba'), 'event_name': 'Reggaeton vs Hip-Hop', 'start_date': 'Wednesday, 14 November', 'location': 'City Hall', 'event_info': 'Deep House  House', 'price': 'FREE ', 'category': 'Music'}\n",
      "{'_id': ObjectId('5bec569d98a2cd6fb8a78cbb'), 'event_name': 'YOLO', 'start_date': 'Wednesday, 14 November', 'location': 'Otto Zutz', 'event_info': 'Hip hop  R&B  Hits', 'price': 'FREE ', 'category': 'Music'}\n",
      "{'_id': ObjectId('5bec569d98a2cd6fb8a78cbc'), 'event_name': 'I LOVE 89 S \" 80S y 90S Hits\"', 'start_date': 'Wednesday, 14 November', 'location': 'Tarantos Club', 'event_info': 'Hits  Indie - Rock  Pop', 'price': ' €5.00', 'category': 'Music'}\n",
      "{'_id': ObjectId('5bec569d98a2cd6fb8a78cbd'), 'event_name': 'Chapter Records Showcase: Anika Kunst /Joaquín Ruíz / Motzler', 'start_date': 'Wednesday, 14 November', 'location': 'Moog', 'event_info': 'Techno', 'price': ' €8.00', 'category': 'Music'}\n",
      "{'_id': ObjectId('5bec569d98a2cd6fb8a78cbe'), 'event_name': 'AFTERWORK MUSIC DJ SUNSET. FREE ENTRANCE.', 'start_date': 'Thursday, 15 November', 'location': 'OD Barcelona', 'event_info': 'Deep House', 'price': 'FREE ', 'category': 'Music'}\n",
      "{'_id': ObjectId('5bec569d98a2cd6fb8a78cbf'), 'event_name': 'LA BODA @ Garage442', 'start_date': 'Thursday, 15 November', 'location': 'Garage 442', 'event_info': 'Electronic  Electro  Funky  Deep House', 'price': 'FREE ', 'category': 'Music'}\n",
      "{'_id': ObjectId('5bec569d98a2cd6fb8a78cc0'), 'event_name': 'Pacha-Chá | Every Thursday', 'start_date': 'Thursday, 15 November', 'location': 'Pacha Barcelona', 'event_info': 'Hits  Latin  Reggaeton', 'price': 'FREE ', 'category': 'Music'}\n",
      "{'_id': ObjectId('5bec569d98a2cd6fb8a78cc1'), 'event_name': 'B Club - Marco Faraone & Victor Fernandez', 'start_date': 'Thursday, 15 November', 'location': 'City Hall', 'event_info': 'Techno  Tech house', 'price': ' €10.00', 'category': 'Music'}\n",
      "{'_id': ObjectId('5bec569d98a2cd6fb8a78cc2'), 'event_name': 'Swag City', 'start_date': 'Thursday, 15 November', 'location': 'Shoko Barcelona', 'event_info': 'Reggaeton  R&B  Hip hop', 'price': 'FREE ', 'category': 'Music'}\n",
      "{'_id': ObjectId('5bec569d98a2cd6fb8a78cc3'), 'event_name': \"Funk D'void & Friends\", 'start_date': 'Thursday, 15 November', 'location': 'Macarena Club', 'event_info': 'Techno', 'price': 'FREE ', 'category': 'Music'}\n",
      "{'_id': ObjectId('5bec569d98a2cd6fb8a78cc4'), 'event_name': '#Wild | Every Thursday', 'start_date': 'Thursday, 15 November', 'location': 'Opium Barcelona', 'event_info': 'Electro  House  Dance', 'price': 'FREE ', 'category': 'Music'}\n",
      "{'_id': ObjectId('5bec569d98a2cd6fb8a78cc5'), 'event_name': 'Obsession | Every Thursday', 'start_date': 'Thursday, 15 November', 'location': 'Bling Bling', 'event_info': 'House  Hits', 'price': 'FREE ', 'category': 'Music'}\n",
      "{'_id': ObjectId('5bec569d98a2cd6fb8a78cc6'), 'event_name': 'Bcn Or Die | Every Thursday', 'start_date': 'Thursday, 15 November', 'location': 'Jamboree Dance Club', 'event_info': 'Hip hop  R&B', 'price': 'FREE ', 'category': 'Music'}\n",
      "{'_id': ObjectId('5bec569d98a2cd6fb8a78cc7'), 'event_name': 'Mandanga de Razzmatazz', 'start_date': 'Thursday, 15 November', 'location': 'Razzmatazz', 'event_info': 'Hits  Dance  Pop', 'price': ' €7.50', 'category': 'Music'}\n",
      "{'_id': ObjectId('5bec569d98a2cd6fb8a78cc8'), 'event_name': 'Crazy | Every Thursday', 'start_date': 'Thursday, 15 November', 'location': 'Catwalk', 'event_info': 'Hip hop  R&B  Urban', 'price': 'FREE ', 'category': 'Music'}\n",
      "{'_id': ObjectId('5bec569d98a2cd6fb8a78cc9'), 'event_name': 'Late Check Out | Thursday', 'start_date': 'Thursday, 15 November', 'location': 'Otto Zutz', 'event_info': 'Hip hop  R&B  Reggaeton', 'price': 'FREE ', 'category': 'Music'}\n",
      "{'_id': ObjectId('5bec569d98a2cd6fb8a78cca'), 'event_name': 'Bcn or Die', 'start_date': 'Thursday, 15 November', 'location': 'Tarantos Club', 'event_info': 'Indie - Rock  R&B  Pop', 'price': ' €5.00', 'category': 'Music'}\n",
      "{'_id': ObjectId('5bec569d98a2cd6fb8a78ccb'), 'event_name': 'La Gozadera - Fiesta Latina #FREE', 'start_date': 'Thursday, 15 November', 'location': 'La Fira Provença', 'event_info': 'Latin  Reggaeton  Hits', 'price': 'FREE ', 'category': 'Music'}\n",
      "{'_id': ObjectId('5bec569d98a2cd6fb8a78ccc'), 'event_name': 'Moog Djs: Gus Van Sound', 'start_date': 'Thursday, 15 November', 'location': 'Moog', 'event_info': 'Techno', 'price': ' €5.00', 'category': 'Music'}\n",
      "{'_id': ObjectId('5bec569d98a2cd6fb8a78ccd'), 'event_name': 'JMII (Hivern Discs) @ Garage442', 'start_date': 'Friday, 16 November', 'location': 'Garage 442', 'event_info': 'Electronic  Electro  Deep House  Nu-Disco', 'price': 'FREE ', 'category': 'Music'}\n",
      "{'_id': ObjectId('5bec569d98a2cd6fb8a78cce'), 'event_name': 'SIGHT pres. Apollonia & Mahony', 'start_date': 'Friday, 16 November', 'location': 'Pacha Barcelona', 'event_info': 'House  Techno  Tech house', 'price': 'FREE ', 'category': 'Music'}\n",
      "{'_id': ObjectId('5bec569d98a2cd6fb8a78ccf'), 'event_name': 'LOCKED pres. Modeselektor - Dj Set', 'start_date': 'Friday, 16 November', 'location': 'INPUT Dance Club', 'event_info': 'Techno  Tech house', 'price': ' €15.00', 'category': 'Music'}\n",
      "{'_id': ObjectId('5bec569d98a2cd6fb8a78cd0'), 'event_name': 'Acid Arab @ The Loft & Fuego w/ DL Blando @ Razzclub', 'start_date': 'Friday, 16 November', 'location': 'Razzmatazz', 'event_info': 'Electronic  Techno  House', 'price': ' €15.50', 'category': 'Music'}\n",
      "{'_id': ObjectId('5bec579298a2cd701af23d86'), 'event_name': 'PRISM 1st anniversary with Ben Klock', 'start_date': 'Saturday, 17 November', 'location': 'INPUT Dance Club', 'event_info': 'Techno  Tech house', 'price': ' €18.00', 'category': 'Music'}\n",
      "{'_id': ObjectId('5bec579298a2cd701af23d87'), 'event_name': 'NOMADS pres: Sebastien Leger, Hraach, Nick Varon', 'start_date': 'Saturday, 17 November', 'location': 'Bikini', 'event_info': 'Deep House  Tech house  House', 'price': ' €10.00', 'category': 'Music'}\n",
      "{'_id': ObjectId('5bec579298a2cd701af23d88'), 'event_name': 'B Club - Marco Faraone & Victor Fernandez', 'start_date': 'Thursday, 15 November', 'location': 'City Hall', 'event_info': 'Techno  Tech house', 'price': ' €10.00', 'category': 'Music'}\n",
      "{'_id': ObjectId('5bec579298a2cd701af23d89'), 'event_name': 'SIGHT pres. Apollonia & Mahony', 'start_date': 'Friday, 16 November', 'location': 'Pacha Barcelona', 'event_info': 'House  Techno  Tech house', 'price': 'FREE ', 'category': 'Music'}\n",
      "{'_id': ObjectId('5bec579298a2cd701af23d8a'), 'event_name': 'R33 Barcelona present: Anja Schneider', 'start_date': 'Saturday, 17 November', 'location': 'R33 Club', 'event_info': 'Techno  Minimal  Electronic  Electro', 'price': ' €15.00', 'category': 'Music'}\n",
      "{'_id': ObjectId('5bec579298a2cd701af23d8b'), 'event_name': 'Blackstone pres. Chelina Manuhutu', 'start_date': 'Sunday, 18 November', 'location': 'Opium Barcelona', 'event_info': 'Electro  House  Dance', 'price': 'FREE ', 'category': 'Music'}\n",
      "{'_id': ObjectId('5bec579298a2cd701af23d8c'), 'event_name': 'This Side UP w/ Zombies in Miami Live - Moderna  (FREE ALL NIGHT LONG)', 'start_date': 'Friday, 16 November', 'location': 'This Side UP', 'event_info': 'Electro  Techno', 'price': 'FREE ', 'category': 'Music'}\n",
      "{'_id': ObjectId('5bec579298a2cd701af23d8d'), 'event_name': 'Acid Arab @ The Loft & Fuego w/ DL Blando @ Razzclub', 'start_date': 'Friday, 16 November', 'location': 'Razzmatazz', 'event_info': 'Electronic  Techno  House', 'price': ' €15.50', 'category': 'Music'}\n",
      "{'_id': ObjectId('5bec579298a2cd701af23d8e'), 'event_name': 'LOCKED pres. Modeselektor - Dj Set', 'start_date': 'Friday, 16 November', 'location': 'INPUT Dance Club', 'event_info': 'Techno  Tech house', 'price': ' €15.00', 'category': 'Music'}\n",
      "{'_id': ObjectId('5bec579298a2cd701af23d8f'), 'event_name': 'SPECTRUM SEQUENCE w/ MOREENO', 'start_date': 'Wednesday, 14 November', 'location': 'Garage 442', 'event_info': 'Electronic  Electro  Funky', 'price': 'FREE ', 'category': 'Music'}\n",
      "{'_id': ObjectId('5bec579298a2cd701af23d90'), 'event_name': 'BACK2BLACK - Opening party', 'start_date': 'Wednesday, 14 November', 'location': 'Pacha Barcelona', 'event_info': 'Hip hop  R&B', 'price': 'FREE ', 'category': 'Music'}\n",
      "{'_id': ObjectId('5bec579298a2cd701af23d91'), 'event_name': 'Pop That Party - Undeey (Dj Set)', 'start_date': 'Wednesday, 14 November', 'location': 'Shoko Barcelona', 'event_info': 'Hip hop  R&B  Reggae - Dancehall', 'price': 'FREE ', 'category': 'Music'}\n",
      "{'_id': ObjectId('5bec579298a2cd701af23d92'), 'event_name': 'Mistress', 'start_date': 'Wednesday, 14 November', 'location': 'Macarena Club', 'event_info': 'Techno', 'price': 'FREE ', 'category': 'Music'}\n",
      "{'_id': ObjectId('5bec579298a2cd701af23d93'), 'event_name': 'Ladies Night | Every Wednesday', 'start_date': 'Wednesday, 14 November', 'location': 'Opium Barcelona', 'event_info': 'House  Hits  Electronic', 'price': 'FREE ', 'category': 'Music'}\n",
      "{'_id': ObjectId('5bec579298a2cd701af23d94'), 'event_name': 'Dj Mastie', 'start_date': 'Wednesday, 14 November', 'location': 'Jamboree Dance Club', 'event_info': 'Hip hop  R&B  Urban', 'price': nan, 'category': 'Music'}\n",
      "{'_id': ObjectId('5bec579298a2cd701af23d95'), 'event_name': 'El Dirty de Razzmatazz', 'start_date': 'Wednesday, 14 November', 'location': 'Razzmatazz', 'event_info': 'Hits  Dance  Pop', 'price': ' €11.50', 'category': 'Music'}\n",
      "{'_id': ObjectId('5bec579298a2cd701af23d96'), 'event_name': 'Reggaeton vs Hip-Hop', 'start_date': 'Wednesday, 14 November', 'location': 'City Hall', 'event_info': 'Deep House  House', 'price': 'FREE ', 'category': 'Music'}\n",
      "{'_id': ObjectId('5bec579298a2cd701af23d97'), 'event_name': 'YOLO', 'start_date': 'Wednesday, 14 November', 'location': 'Otto Zutz', 'event_info': 'Hip hop  R&B  Hits', 'price': 'FREE ', 'category': 'Music'}\n",
      "{'_id': ObjectId('5bec579298a2cd701af23d98'), 'event_name': 'I LOVE 89 S \" 80S y 90S Hits\"', 'start_date': 'Wednesday, 14 November', 'location': 'Tarantos Club', 'event_info': 'Hits  Indie - Rock  Pop', 'price': ' €5.00', 'category': 'Music'}\n",
      "{'_id': ObjectId('5bec579298a2cd701af23d99'), 'event_name': 'Chapter Records Showcase: Anika Kunst /Joaquín Ruíz / Motzler', 'start_date': 'Wednesday, 14 November', 'location': 'Moog', 'event_info': 'Techno', 'price': ' €8.00', 'category': 'Music'}\n",
      "{'_id': ObjectId('5bec579298a2cd701af23d9a'), 'event_name': 'AFTERWORK MUSIC DJ SUNSET. FREE ENTRANCE.', 'start_date': 'Thursday, 15 November', 'location': 'OD Barcelona', 'event_info': 'Deep House', 'price': 'FREE ', 'category': 'Music'}\n",
      "{'_id': ObjectId('5bec579298a2cd701af23d9b'), 'event_name': 'LA BODA @ Garage442', 'start_date': 'Thursday, 15 November', 'location': 'Garage 442', 'event_info': 'Electronic  Electro  Funky  Deep House', 'price': 'FREE ', 'category': 'Music'}\n",
      "{'_id': ObjectId('5bec579298a2cd701af23d9c'), 'event_name': 'Pacha-Chá | Every Thursday', 'start_date': 'Thursday, 15 November', 'location': 'Pacha Barcelona', 'event_info': 'Hits  Latin  Reggaeton', 'price': 'FREE ', 'category': 'Music'}\n",
      "{'_id': ObjectId('5bec579298a2cd701af23d9d'), 'event_name': 'B Club - Marco Faraone & Victor Fernandez', 'start_date': 'Thursday, 15 November', 'location': 'City Hall', 'event_info': 'Techno  Tech house', 'price': ' €10.00', 'category': 'Music'}\n",
      "{'_id': ObjectId('5bec579298a2cd701af23d9e'), 'event_name': 'Swag City', 'start_date': 'Thursday, 15 November', 'location': 'Shoko Barcelona', 'event_info': 'Reggaeton  R&B  Hip hop', 'price': 'FREE ', 'category': 'Music'}\n",
      "{'_id': ObjectId('5bec579298a2cd701af23d9f'), 'event_name': \"Funk D'void & Friends\", 'start_date': 'Thursday, 15 November', 'location': 'Macarena Club', 'event_info': 'Techno', 'price': 'FREE ', 'category': 'Music'}\n",
      "{'_id': ObjectId('5bec579298a2cd701af23da0'), 'event_name': '#Wild | Every Thursday', 'start_date': 'Thursday, 15 November', 'location': 'Opium Barcelona', 'event_info': 'Electro  House  Dance', 'price': 'FREE ', 'category': 'Music'}\n",
      "{'_id': ObjectId('5bec579298a2cd701af23da1'), 'event_name': 'Obsession | Every Thursday', 'start_date': 'Thursday, 15 November', 'location': 'Bling Bling', 'event_info': 'House  Hits', 'price': 'FREE ', 'category': 'Music'}\n",
      "{'_id': ObjectId('5bec579298a2cd701af23da2'), 'event_name': 'Bcn Or Die | Every Thursday', 'start_date': 'Thursday, 15 November', 'location': 'Jamboree Dance Club', 'event_info': 'Hip hop  R&B', 'price': 'FREE ', 'category': 'Music'}\n",
      "{'_id': ObjectId('5bec579298a2cd701af23da3'), 'event_name': 'Mandanga de Razzmatazz', 'start_date': 'Thursday, 15 November', 'location': 'Razzmatazz', 'event_info': 'Hits  Dance  Pop', 'price': ' €7.50', 'category': 'Music'}\n",
      "{'_id': ObjectId('5bec579298a2cd701af23da4'), 'event_name': 'Crazy | Every Thursday', 'start_date': 'Thursday, 15 November', 'location': 'Catwalk', 'event_info': 'Hip hop  R&B  Urban', 'price': 'FREE ', 'category': 'Music'}\n",
      "{'_id': ObjectId('5bec579298a2cd701af23da5'), 'event_name': 'Late Check Out | Thursday', 'start_date': 'Thursday, 15 November', 'location': 'Otto Zutz', 'event_info': 'Hip hop  R&B  Reggaeton', 'price': 'FREE ', 'category': 'Music'}\n",
      "{'_id': ObjectId('5bec579298a2cd701af23da6'), 'event_name': 'Bcn or Die', 'start_date': 'Thursday, 15 November', 'location': 'Tarantos Club', 'event_info': 'Indie - Rock  R&B  Pop', 'price': ' €5.00', 'category': 'Music'}\n",
      "{'_id': ObjectId('5bec579298a2cd701af23da7'), 'event_name': 'La Gozadera - Fiesta Latina #FREE', 'start_date': 'Thursday, 15 November', 'location': 'La Fira Provença', 'event_info': 'Latin  Reggaeton  Hits', 'price': 'FREE ', 'category': 'Music'}\n",
      "{'_id': ObjectId('5bec579298a2cd701af23da8'), 'event_name': 'Moog Djs: Gus Van Sound', 'start_date': 'Thursday, 15 November', 'location': 'Moog', 'event_info': 'Techno', 'price': ' €5.00', 'category': 'Music'}\n",
      "{'_id': ObjectId('5bec579298a2cd701af23da9'), 'event_name': 'JMII (Hivern Discs) @ Garage442', 'start_date': 'Friday, 16 November', 'location': 'Garage 442', 'event_info': 'Electronic  Electro  Deep House  Nu-Disco', 'price': 'FREE ', 'category': 'Music'}\n",
      "{'_id': ObjectId('5bec579298a2cd701af23daa'), 'event_name': 'SIGHT pres. Apollonia & Mahony', 'start_date': 'Friday, 16 November', 'location': 'Pacha Barcelona', 'event_info': 'House  Techno  Tech house', 'price': 'FREE ', 'category': 'Music'}\n",
      "{'_id': ObjectId('5bec579298a2cd701af23dab'), 'event_name': 'LOCKED pres. Modeselektor - Dj Set', 'start_date': 'Friday, 16 November', 'location': 'INPUT Dance Club', 'event_info': 'Techno  Tech house', 'price': ' €15.00', 'category': 'Music'}\n",
      "{'_id': ObjectId('5bec579298a2cd701af23dac'), 'event_name': 'Acid Arab @ The Loft & Fuego w/ DL Blando @ Razzclub', 'start_date': 'Friday, 16 November', 'location': 'Razzmatazz', 'event_info': 'Electronic  Techno  House', 'price': ' €15.50', 'category': 'Music'}\n",
      "{'_id': ObjectId('5bec5b6598a2cd75c98beeaf'), 'event_name': 'PRISM 1st anniversary with Ben Klock', 'start_date': 'Saturday, 17 November', 'location': 'INPUT Dance Club', 'event_info': 'Techno  Tech house', 'price': ' €18.00', 'category': 'Music'}\n",
      "{'_id': ObjectId('5bec5b6598a2cd75c98beeb0'), 'event_name': 'NOMADS pres: Sebastien Leger, Hraach, Nick Varon', 'start_date': 'Saturday, 17 November', 'location': 'Bikini', 'event_info': 'Deep House  Tech house  House', 'price': ' €10.00', 'category': 'Music'}\n",
      "{'_id': ObjectId('5bec5b6598a2cd75c98beeb1'), 'event_name': 'B Club - Marco Faraone & Victor Fernandez', 'start_date': 'Thursday, 15 November', 'location': 'City Hall', 'event_info': 'Techno  Tech house', 'price': ' €10.00', 'category': 'Music'}\n",
      "{'_id': ObjectId('5bec5b6598a2cd75c98beeb2'), 'event_name': 'SIGHT pres. Apollonia & Mahony', 'start_date': 'Friday, 16 November', 'location': 'Pacha Barcelona', 'event_info': 'House  Techno  Tech house', 'price': 'FREE ', 'category': 'Music'}\n",
      "{'_id': ObjectId('5bec5b6598a2cd75c98beeb3'), 'event_name': 'R33 Barcelona present: Anja Schneider', 'start_date': 'Saturday, 17 November', 'location': 'R33 Club', 'event_info': 'Techno  Minimal  Electronic  Electro', 'price': ' €15.00', 'category': 'Music'}\n",
      "{'_id': ObjectId('5bec5b6598a2cd75c98beeb4'), 'event_name': 'Blackstone pres. Chelina Manuhutu', 'start_date': 'Sunday, 18 November', 'location': 'Opium Barcelona', 'event_info': 'Electro  House  Dance', 'price': 'FREE ', 'category': 'Music'}\n",
      "{'_id': ObjectId('5bec5b6598a2cd75c98beeb5'), 'event_name': 'This Side UP w/ Zombies in Miami Live - Moderna  (FREE ALL NIGHT LONG)', 'start_date': 'Friday, 16 November', 'location': 'This Side UP', 'event_info': 'Electro  Techno', 'price': 'FREE ', 'category': 'Music'}\n",
      "{'_id': ObjectId('5bec5b6598a2cd75c98beeb6'), 'event_name': 'Acid Arab @ The Loft & Fuego w/ DL Blando @ Razzclub', 'start_date': 'Friday, 16 November', 'location': 'Razzmatazz', 'event_info': 'Electronic  Techno  House', 'price': ' €15.50', 'category': 'Music'}\n",
      "{'_id': ObjectId('5bec5b6598a2cd75c98beeb7'), 'event_name': 'LOCKED pres. Modeselektor - Dj Set', 'start_date': 'Friday, 16 November', 'location': 'INPUT Dance Club', 'event_info': 'Techno  Tech house', 'price': ' €15.00', 'category': 'Music'}\n",
      "{'_id': ObjectId('5bec5b6598a2cd75c98beeb8'), 'event_name': 'SPECTRUM SEQUENCE w/ MOREENO', 'start_date': 'Wednesday, 14 November', 'location': 'Garage 442', 'event_info': 'Electronic  Electro  Funky', 'price': 'FREE ', 'category': 'Music'}\n",
      "{'_id': ObjectId('5bec5b6598a2cd75c98beeb9'), 'event_name': 'BACK2BLACK - Opening party', 'start_date': 'Wednesday, 14 November', 'location': 'Pacha Barcelona', 'event_info': 'Hip hop  R&B', 'price': 'FREE ', 'category': 'Music'}\n",
      "{'_id': ObjectId('5bec5b6598a2cd75c98beeba'), 'event_name': 'Pop That Party - Undeey (Dj Set)', 'start_date': 'Wednesday, 14 November', 'location': 'Shoko Barcelona', 'event_info': 'Hip hop  R&B  Reggae - Dancehall', 'price': 'FREE ', 'category': 'Music'}\n",
      "{'_id': ObjectId('5bec5b6598a2cd75c98beebb'), 'event_name': 'Mistress', 'start_date': 'Wednesday, 14 November', 'location': 'Macarena Club', 'event_info': 'Techno', 'price': 'FREE ', 'category': 'Music'}\n",
      "{'_id': ObjectId('5bec5b6598a2cd75c98beebc'), 'event_name': 'Ladies Night | Every Wednesday', 'start_date': 'Wednesday, 14 November', 'location': 'Opium Barcelona', 'event_info': 'House  Hits  Electronic', 'price': 'FREE ', 'category': 'Music'}\n",
      "{'_id': ObjectId('5bec5b6598a2cd75c98beebd'), 'event_name': 'Dj Mastie', 'start_date': 'Wednesday, 14 November', 'location': 'Jamboree Dance Club', 'event_info': 'Hip hop  R&B  Urban', 'price': nan, 'category': 'Music'}\n",
      "{'_id': ObjectId('5bec5b6598a2cd75c98beebe'), 'event_name': 'El Dirty de Razzmatazz', 'start_date': 'Wednesday, 14 November', 'location': 'Razzmatazz', 'event_info': 'Hits  Dance  Pop', 'price': ' €11.50', 'category': 'Music'}\n",
      "{'_id': ObjectId('5bec5b6598a2cd75c98beebf'), 'event_name': 'Reggaeton vs Hip-Hop', 'start_date': 'Wednesday, 14 November', 'location': 'City Hall', 'event_info': 'Deep House  House', 'price': 'FREE ', 'category': 'Music'}\n",
      "{'_id': ObjectId('5bec5b6598a2cd75c98beec0'), 'event_name': 'YOLO', 'start_date': 'Wednesday, 14 November', 'location': 'Otto Zutz', 'event_info': 'Hip hop  R&B  Hits', 'price': 'FREE ', 'category': 'Music'}\n",
      "{'_id': ObjectId('5bec5b6598a2cd75c98beec1'), 'event_name': 'I LOVE 89 S \" 80S y 90S Hits\"', 'start_date': 'Wednesday, 14 November', 'location': 'Tarantos Club', 'event_info': 'Hits  Indie - Rock  Pop', 'price': ' €5.00', 'category': 'Music'}\n",
      "{'_id': ObjectId('5bec5b6598a2cd75c98beec2'), 'event_name': 'Chapter Records Showcase: Anika Kunst /Joaquín Ruíz / Motzler', 'start_date': 'Wednesday, 14 November', 'location': 'Moog', 'event_info': 'Techno', 'price': ' €8.00', 'category': 'Music'}\n",
      "{'_id': ObjectId('5bec5b6598a2cd75c98beec3'), 'event_name': 'AFTERWORK MUSIC DJ SUNSET. FREE ENTRANCE.', 'start_date': 'Thursday, 15 November', 'location': 'OD Barcelona', 'event_info': 'Deep House', 'price': 'FREE ', 'category': 'Music'}\n",
      "{'_id': ObjectId('5bec5b6598a2cd75c98beec4'), 'event_name': 'LA BODA @ Garage442', 'start_date': 'Thursday, 15 November', 'location': 'Garage 442', 'event_info': 'Electronic  Electro  Funky  Deep House', 'price': 'FREE ', 'category': 'Music'}\n",
      "{'_id': ObjectId('5bec5b6598a2cd75c98beec5'), 'event_name': 'Pacha-Chá | Every Thursday', 'start_date': 'Thursday, 15 November', 'location': 'Pacha Barcelona', 'event_info': 'Hits  Latin  Reggaeton', 'price': 'FREE ', 'category': 'Music'}\n",
      "{'_id': ObjectId('5bec5b6598a2cd75c98beec6'), 'event_name': 'B Club - Marco Faraone & Victor Fernandez', 'start_date': 'Thursday, 15 November', 'location': 'City Hall', 'event_info': 'Techno  Tech house', 'price': ' €10.00', 'category': 'Music'}\n",
      "{'_id': ObjectId('5bec5b6598a2cd75c98beec7'), 'event_name': 'Swag City', 'start_date': 'Thursday, 15 November', 'location': 'Shoko Barcelona', 'event_info': 'Reggaeton  R&B  Hip hop', 'price': 'FREE ', 'category': 'Music'}\n",
      "{'_id': ObjectId('5bec5b6598a2cd75c98beec8'), 'event_name': \"Funk D'void & Friends\", 'start_date': 'Thursday, 15 November', 'location': 'Macarena Club', 'event_info': 'Techno', 'price': 'FREE ', 'category': 'Music'}\n",
      "{'_id': ObjectId('5bec5b6598a2cd75c98beec9'), 'event_name': '#Wild | Every Thursday', 'start_date': 'Thursday, 15 November', 'location': 'Opium Barcelona', 'event_info': 'Electro  House  Dance', 'price': 'FREE ', 'category': 'Music'}\n",
      "{'_id': ObjectId('5bec5b6598a2cd75c98beeca'), 'event_name': 'Obsession | Every Thursday', 'start_date': 'Thursday, 15 November', 'location': 'Bling Bling', 'event_info': 'House  Hits', 'price': 'FREE ', 'category': 'Music'}\n",
      "{'_id': ObjectId('5bec5b6598a2cd75c98beecb'), 'event_name': 'Bcn Or Die | Every Thursday', 'start_date': 'Thursday, 15 November', 'location': 'Jamboree Dance Club', 'event_info': 'Hip hop  R&B', 'price': 'FREE ', 'category': 'Music'}\n",
      "{'_id': ObjectId('5bec5b6598a2cd75c98beecc'), 'event_name': 'Mandanga de Razzmatazz', 'start_date': 'Thursday, 15 November', 'location': 'Razzmatazz', 'event_info': 'Hits  Dance  Pop', 'price': ' €7.50', 'category': 'Music'}\n",
      "{'_id': ObjectId('5bec5b6598a2cd75c98beecd'), 'event_name': 'Crazy | Every Thursday', 'start_date': 'Thursday, 15 November', 'location': 'Catwalk', 'event_info': 'Hip hop  R&B  Urban', 'price': 'FREE ', 'category': 'Music'}\n",
      "{'_id': ObjectId('5bec5b6598a2cd75c98beece'), 'event_name': 'Late Check Out | Thursday', 'start_date': 'Thursday, 15 November', 'location': 'Otto Zutz', 'event_info': 'Hip hop  R&B  Reggaeton', 'price': 'FREE ', 'category': 'Music'}\n",
      "{'_id': ObjectId('5bec5b6598a2cd75c98beecf'), 'event_name': 'Bcn or Die', 'start_date': 'Thursday, 15 November', 'location': 'Tarantos Club', 'event_info': 'Indie - Rock  R&B  Pop', 'price': ' €5.00', 'category': 'Music'}\n",
      "{'_id': ObjectId('5bec5b6598a2cd75c98beed0'), 'event_name': 'La Gozadera - Fiesta Latina #FREE', 'start_date': 'Thursday, 15 November', 'location': 'La Fira Provença', 'event_info': 'Latin  Reggaeton  Hits', 'price': 'FREE ', 'category': 'Music'}\n",
      "{'_id': ObjectId('5bec5b6598a2cd75c98beed1'), 'event_name': 'Moog Djs: Gus Van Sound', 'start_date': 'Thursday, 15 November', 'location': 'Moog', 'event_info': 'Techno', 'price': ' €5.00', 'category': 'Music'}\n",
      "{'_id': ObjectId('5bec5b6598a2cd75c98beed2'), 'event_name': 'JMII (Hivern Discs) @ Garage442', 'start_date': 'Friday, 16 November', 'location': 'Garage 442', 'event_info': 'Electronic  Electro  Deep House  Nu-Disco', 'price': 'FREE ', 'category': 'Music'}\n",
      "{'_id': ObjectId('5bec5b6598a2cd75c98beed3'), 'event_name': 'SIGHT pres. Apollonia & Mahony', 'start_date': 'Friday, 16 November', 'location': 'Pacha Barcelona', 'event_info': 'House  Techno  Tech house', 'price': 'FREE ', 'category': 'Music'}\n",
      "{'_id': ObjectId('5bec5b6598a2cd75c98beed4'), 'event_name': 'LOCKED pres. Modeselektor - Dj Set', 'start_date': 'Friday, 16 November', 'location': 'INPUT Dance Club', 'event_info': 'Techno  Tech house', 'price': ' €15.00', 'category': 'Music'}\n",
      "{'_id': ObjectId('5bec5b6598a2cd75c98beed5'), 'event_name': 'Acid Arab @ The Loft & Fuego w/ DL Blando @ Razzclub', 'start_date': 'Friday, 16 November', 'location': 'Razzmatazz', 'event_info': 'Electronic  Techno  House', 'price': ' €15.50', 'category': 'Music'}\n",
      "{'_id': ObjectId('5bec5d0198a2cd75e676865c'), 'event_name': 'PRISM 1st anniversary with Ben Klock', 'start_date': 'Saturday, 17 November', 'location': 'INPUT Dance Club', 'event_info': 'Techno  Tech house', 'price': ' €18.00', 'category': 'Music'}\n",
      "{'_id': ObjectId('5bec5d0198a2cd75e676865d'), 'event_name': 'NOMADS pres: Sebastien Leger, Hraach, Nick Varon', 'start_date': 'Saturday, 17 November', 'location': 'Bikini', 'event_info': 'Deep House  Tech house  House', 'price': ' €10.00', 'category': 'Music'}\n",
      "{'_id': ObjectId('5bec5d0198a2cd75e676865e'), 'event_name': 'B Club - Marco Faraone & Victor Fernandez', 'start_date': 'Thursday, 15 November', 'location': 'City Hall', 'event_info': 'Techno  Tech house', 'price': ' €10.00', 'category': 'Music'}\n",
      "{'_id': ObjectId('5bec5d0198a2cd75e676865f'), 'event_name': 'SIGHT pres. Apollonia & Mahony', 'start_date': 'Friday, 16 November', 'location': 'Pacha Barcelona', 'event_info': 'House  Techno  Tech house', 'price': 'FREE ', 'category': 'Music'}\n",
      "{'_id': ObjectId('5bec5d0198a2cd75e6768660'), 'event_name': 'R33 Barcelona present: Anja Schneider', 'start_date': 'Saturday, 17 November', 'location': 'R33 Club', 'event_info': 'Techno  Minimal  Electronic  Electro', 'price': ' €15.00', 'category': 'Music'}\n",
      "{'_id': ObjectId('5bec5d0198a2cd75e6768661'), 'event_name': 'Blackstone pres. Chelina Manuhutu', 'start_date': 'Sunday, 18 November', 'location': 'Opium Barcelona', 'event_info': 'Electro  House  Dance', 'price': 'FREE ', 'category': 'Music'}\n",
      "{'_id': ObjectId('5bec5d0198a2cd75e6768662'), 'event_name': 'This Side UP w/ Zombies in Miami Live - Moderna  (FREE ALL NIGHT LONG)', 'start_date': 'Friday, 16 November', 'location': 'This Side UP', 'event_info': 'Electro  Techno', 'price': 'FREE ', 'category': 'Music'}\n",
      "{'_id': ObjectId('5bec5d0198a2cd75e6768663'), 'event_name': 'Acid Arab @ The Loft & Fuego w/ DL Blando @ Razzclub', 'start_date': 'Friday, 16 November', 'location': 'Razzmatazz', 'event_info': 'Electronic  Techno  House', 'price': ' €15.50', 'category': 'Music'}\n",
      "{'_id': ObjectId('5bec5d0198a2cd75e6768664'), 'event_name': 'LOCKED pres. Modeselektor - Dj Set', 'start_date': 'Friday, 16 November', 'location': 'INPUT Dance Club', 'event_info': 'Techno  Tech house', 'price': ' €15.00', 'category': 'Music'}\n",
      "{'_id': ObjectId('5bec5d0198a2cd75e6768665'), 'event_name': 'SPECTRUM SEQUENCE w/ MOREENO', 'start_date': 'Wednesday, 14 November', 'location': 'Garage 442', 'event_info': 'Electronic  Electro  Funky', 'price': 'FREE ', 'category': 'Music'}\n",
      "{'_id': ObjectId('5bec5d0198a2cd75e6768666'), 'event_name': 'BACK2BLACK - Opening party', 'start_date': 'Wednesday, 14 November', 'location': 'Pacha Barcelona', 'event_info': 'Hip hop  R&B', 'price': 'FREE ', 'category': 'Music'}\n",
      "{'_id': ObjectId('5bec5d0198a2cd75e6768667'), 'event_name': 'Pop That Party - Undeey (Dj Set)', 'start_date': 'Wednesday, 14 November', 'location': 'Shoko Barcelona', 'event_info': 'Hip hop  R&B  Reggae - Dancehall', 'price': 'FREE ', 'category': 'Music'}\n",
      "{'_id': ObjectId('5bec5d0198a2cd75e6768668'), 'event_name': 'Mistress', 'start_date': 'Wednesday, 14 November', 'location': 'Macarena Club', 'event_info': 'Techno', 'price': 'FREE ', 'category': 'Music'}\n",
      "{'_id': ObjectId('5bec5d0198a2cd75e6768669'), 'event_name': 'Ladies Night | Every Wednesday', 'start_date': 'Wednesday, 14 November', 'location': 'Opium Barcelona', 'event_info': 'House  Hits  Electronic', 'price': 'FREE ', 'category': 'Music'}\n",
      "{'_id': ObjectId('5bec5d0198a2cd75e676866a'), 'event_name': 'Dj Mastie', 'start_date': 'Wednesday, 14 November', 'location': 'Jamboree Dance Club', 'event_info': 'Hip hop  R&B  Urban', 'price': nan, 'category': 'Music'}\n",
      "{'_id': ObjectId('5bec5d0198a2cd75e676866b'), 'event_name': 'El Dirty de Razzmatazz', 'start_date': 'Wednesday, 14 November', 'location': 'Razzmatazz', 'event_info': 'Hits  Dance  Pop', 'price': ' €11.50', 'category': 'Music'}\n",
      "{'_id': ObjectId('5bec5d0198a2cd75e676866c'), 'event_name': 'Reggaeton vs Hip-Hop', 'start_date': 'Wednesday, 14 November', 'location': 'City Hall', 'event_info': 'Deep House  House', 'price': 'FREE ', 'category': 'Music'}\n",
      "{'_id': ObjectId('5bec5d0198a2cd75e676866d'), 'event_name': 'YOLO', 'start_date': 'Wednesday, 14 November', 'location': 'Otto Zutz', 'event_info': 'Hip hop  R&B  Hits', 'price': 'FREE ', 'category': 'Music'}\n",
      "{'_id': ObjectId('5bec5d0198a2cd75e676866e'), 'event_name': 'I LOVE 89 S \" 80S y 90S Hits\"', 'start_date': 'Wednesday, 14 November', 'location': 'Tarantos Club', 'event_info': 'Hits  Indie - Rock  Pop', 'price': ' €5.00', 'category': 'Music'}\n",
      "{'_id': ObjectId('5bec5d0198a2cd75e676866f'), 'event_name': 'Chapter Records Showcase: Anika Kunst /Joaquín Ruíz / Motzler', 'start_date': 'Wednesday, 14 November', 'location': 'Moog', 'event_info': 'Techno', 'price': ' €8.00', 'category': 'Music'}\n",
      "{'_id': ObjectId('5bec5d0198a2cd75e6768670'), 'event_name': 'AFTERWORK MUSIC DJ SUNSET. FREE ENTRANCE.', 'start_date': 'Thursday, 15 November', 'location': 'OD Barcelona', 'event_info': 'Deep House', 'price': 'FREE ', 'category': 'Music'}\n",
      "{'_id': ObjectId('5bec5d0198a2cd75e6768671'), 'event_name': 'LA BODA @ Garage442', 'start_date': 'Thursday, 15 November', 'location': 'Garage 442', 'event_info': 'Electronic  Electro  Funky  Deep House', 'price': 'FREE ', 'category': 'Music'}\n",
      "{'_id': ObjectId('5bec5d0198a2cd75e6768672'), 'event_name': 'Pacha-Chá | Every Thursday', 'start_date': 'Thursday, 15 November', 'location': 'Pacha Barcelona', 'event_info': 'Hits  Latin  Reggaeton', 'price': 'FREE ', 'category': 'Music'}\n",
      "{'_id': ObjectId('5bec5d0198a2cd75e6768673'), 'event_name': 'B Club - Marco Faraone & Victor Fernandez', 'start_date': 'Thursday, 15 November', 'location': 'City Hall', 'event_info': 'Techno  Tech house', 'price': ' €10.00', 'category': 'Music'}\n",
      "{'_id': ObjectId('5bec5d0198a2cd75e6768674'), 'event_name': 'Swag City', 'start_date': 'Thursday, 15 November', 'location': 'Shoko Barcelona', 'event_info': 'Reggaeton  R&B  Hip hop', 'price': 'FREE ', 'category': 'Music'}\n",
      "{'_id': ObjectId('5bec5d0198a2cd75e6768675'), 'event_name': \"Funk D'void & Friends\", 'start_date': 'Thursday, 15 November', 'location': 'Macarena Club', 'event_info': 'Techno', 'price': 'FREE ', 'category': 'Music'}\n",
      "{'_id': ObjectId('5bec5d0198a2cd75e6768676'), 'event_name': '#Wild | Every Thursday', 'start_date': 'Thursday, 15 November', 'location': 'Opium Barcelona', 'event_info': 'Electro  House  Dance', 'price': 'FREE ', 'category': 'Music'}\n",
      "{'_id': ObjectId('5bec5d0198a2cd75e6768677'), 'event_name': 'Obsession | Every Thursday', 'start_date': 'Thursday, 15 November', 'location': 'Bling Bling', 'event_info': 'House  Hits', 'price': 'FREE ', 'category': 'Music'}\n",
      "{'_id': ObjectId('5bec5d0198a2cd75e6768678'), 'event_name': 'Bcn Or Die | Every Thursday', 'start_date': 'Thursday, 15 November', 'location': 'Jamboree Dance Club', 'event_info': 'Hip hop  R&B', 'price': 'FREE ', 'category': 'Music'}\n",
      "{'_id': ObjectId('5bec5d0198a2cd75e6768679'), 'event_name': 'Mandanga de Razzmatazz', 'start_date': 'Thursday, 15 November', 'location': 'Razzmatazz', 'event_info': 'Hits  Dance  Pop', 'price': ' €7.50', 'category': 'Music'}\n",
      "{'_id': ObjectId('5bec5d0198a2cd75e676867a'), 'event_name': 'Crazy | Every Thursday', 'start_date': 'Thursday, 15 November', 'location': 'Catwalk', 'event_info': 'Hip hop  R&B  Urban', 'price': 'FREE ', 'category': 'Music'}\n",
      "{'_id': ObjectId('5bec5d0198a2cd75e676867b'), 'event_name': 'Late Check Out | Thursday', 'start_date': 'Thursday, 15 November', 'location': 'Otto Zutz', 'event_info': 'Hip hop  R&B  Reggaeton', 'price': 'FREE ', 'category': 'Music'}\n",
      "{'_id': ObjectId('5bec5d0198a2cd75e676867c'), 'event_name': 'Bcn or Die', 'start_date': 'Thursday, 15 November', 'location': 'Tarantos Club', 'event_info': 'Indie - Rock  R&B  Pop', 'price': ' €5.00', 'category': 'Music'}\n",
      "{'_id': ObjectId('5bec5d0198a2cd75e676867d'), 'event_name': 'La Gozadera - Fiesta Latina #FREE', 'start_date': 'Thursday, 15 November', 'location': 'La Fira Provença', 'event_info': 'Latin  Reggaeton  Hits', 'price': 'FREE ', 'category': 'Music'}\n",
      "{'_id': ObjectId('5bec5d0198a2cd75e676867e'), 'event_name': 'Moog Djs: Gus Van Sound', 'start_date': 'Thursday, 15 November', 'location': 'Moog', 'event_info': 'Techno', 'price': ' €5.00', 'category': 'Music'}\n",
      "{'_id': ObjectId('5bec5d0198a2cd75e676867f'), 'event_name': 'JMII (Hivern Discs) @ Garage442', 'start_date': 'Friday, 16 November', 'location': 'Garage 442', 'event_info': 'Electronic  Electro  Deep House  Nu-Disco', 'price': 'FREE ', 'category': 'Music'}\n",
      "{'_id': ObjectId('5bec5d0198a2cd75e6768680'), 'event_name': 'SIGHT pres. Apollonia & Mahony', 'start_date': 'Friday, 16 November', 'location': 'Pacha Barcelona', 'event_info': 'House  Techno  Tech house', 'price': 'FREE ', 'category': 'Music'}\n",
      "{'_id': ObjectId('5bec5d0198a2cd75e6768681'), 'event_name': 'LOCKED pres. Modeselektor - Dj Set', 'start_date': 'Friday, 16 November', 'location': 'INPUT Dance Club', 'event_info': 'Techno  Tech house', 'price': ' €15.00', 'category': 'Music'}\n",
      "{'_id': ObjectId('5bec5d0198a2cd75e6768682'), 'event_name': 'Acid Arab @ The Loft & Fuego w/ DL Blando @ Razzclub', 'start_date': 'Friday, 16 November', 'location': 'Razzmatazz', 'event_info': 'Electronic  Techno  House', 'price': ' €15.50', 'category': 'Music'}\n",
      "{'_id': ObjectId('5bec5d1b98a2cd75edb0bdca'), 'event_name': 'PRISM 1st anniversary with Ben Klock', 'start_date': 'Saturday, 17 November', 'location': 'INPUT Dance Club', 'event_info': 'Techno  Tech house', 'price': ' €18.00', 'category': 'Music'}\n",
      "{'_id': ObjectId('5bec5d1b98a2cd75edb0bdcb'), 'event_name': 'NOMADS pres: Sebastien Leger, Hraach, Nick Varon', 'start_date': 'Saturday, 17 November', 'location': 'Bikini', 'event_info': 'Deep House  Tech house  House', 'price': ' €10.00', 'category': 'Music'}\n",
      "{'_id': ObjectId('5bec5d1b98a2cd75edb0bdcc'), 'event_name': 'B Club - Marco Faraone & Victor Fernandez', 'start_date': 'Thursday, 15 November', 'location': 'City Hall', 'event_info': 'Techno  Tech house', 'price': ' €10.00', 'category': 'Music'}\n",
      "{'_id': ObjectId('5bec5d1b98a2cd75edb0bdcd'), 'event_name': 'SIGHT pres. Apollonia & Mahony', 'start_date': 'Friday, 16 November', 'location': 'Pacha Barcelona', 'event_info': 'House  Techno  Tech house', 'price': 'FREE ', 'category': 'Music'}\n",
      "{'_id': ObjectId('5bec5d1b98a2cd75edb0bdce'), 'event_name': 'R33 Barcelona present: Anja Schneider', 'start_date': 'Saturday, 17 November', 'location': 'R33 Club', 'event_info': 'Techno  Minimal  Electronic  Electro', 'price': ' €15.00', 'category': 'Music'}\n",
      "{'_id': ObjectId('5bec5d1b98a2cd75edb0bdcf'), 'event_name': 'Blackstone pres. Chelina Manuhutu', 'start_date': 'Sunday, 18 November', 'location': 'Opium Barcelona', 'event_info': 'Electro  House  Dance', 'price': 'FREE ', 'category': 'Music'}\n",
      "{'_id': ObjectId('5bec5d1b98a2cd75edb0bdd0'), 'event_name': 'This Side UP w/ Zombies in Miami Live - Moderna  (FREE ALL NIGHT LONG)', 'start_date': 'Friday, 16 November', 'location': 'This Side UP', 'event_info': 'Electro  Techno', 'price': 'FREE ', 'category': 'Music'}\n",
      "{'_id': ObjectId('5bec5d1b98a2cd75edb0bdd1'), 'event_name': 'Acid Arab @ The Loft & Fuego w/ DL Blando @ Razzclub', 'start_date': 'Friday, 16 November', 'location': 'Razzmatazz', 'event_info': 'Electronic  Techno  House', 'price': ' €15.50', 'category': 'Music'}\n",
      "{'_id': ObjectId('5bec5d1b98a2cd75edb0bdd2'), 'event_name': 'LOCKED pres. Modeselektor - Dj Set', 'start_date': 'Friday, 16 November', 'location': 'INPUT Dance Club', 'event_info': 'Techno  Tech house', 'price': ' €15.00', 'category': 'Music'}\n",
      "{'_id': ObjectId('5bec5d1b98a2cd75edb0bdd3'), 'event_name': 'SPECTRUM SEQUENCE w/ MOREENO', 'start_date': 'Wednesday, 14 November', 'location': 'Garage 442', 'event_info': 'Electronic  Electro  Funky', 'price': 'FREE ', 'category': 'Music'}\n",
      "{'_id': ObjectId('5bec5d1b98a2cd75edb0bdd4'), 'event_name': 'BACK2BLACK - Opening party', 'start_date': 'Wednesday, 14 November', 'location': 'Pacha Barcelona', 'event_info': 'Hip hop  R&B', 'price': 'FREE ', 'category': 'Music'}\n",
      "{'_id': ObjectId('5bec5d1b98a2cd75edb0bdd5'), 'event_name': 'Pop That Party - Undeey (Dj Set)', 'start_date': 'Wednesday, 14 November', 'location': 'Shoko Barcelona', 'event_info': 'Hip hop  R&B  Reggae - Dancehall', 'price': 'FREE ', 'category': 'Music'}\n",
      "{'_id': ObjectId('5bec5d1b98a2cd75edb0bdd6'), 'event_name': 'Mistress', 'start_date': 'Wednesday, 14 November', 'location': 'Macarena Club', 'event_info': 'Techno', 'price': 'FREE ', 'category': 'Music'}\n",
      "{'_id': ObjectId('5bec5d1b98a2cd75edb0bdd7'), 'event_name': 'Ladies Night | Every Wednesday', 'start_date': 'Wednesday, 14 November', 'location': 'Opium Barcelona', 'event_info': 'House  Hits  Electronic', 'price': 'FREE ', 'category': 'Music'}\n",
      "{'_id': ObjectId('5bec5d1b98a2cd75edb0bdd8'), 'event_name': 'Dj Mastie', 'start_date': 'Wednesday, 14 November', 'location': 'Jamboree Dance Club', 'event_info': 'Hip hop  R&B  Urban', 'price': nan, 'category': 'Music'}\n",
      "{'_id': ObjectId('5bec5d1b98a2cd75edb0bdd9'), 'event_name': 'El Dirty de Razzmatazz', 'start_date': 'Wednesday, 14 November', 'location': 'Razzmatazz', 'event_info': 'Hits  Dance  Pop', 'price': ' €11.50', 'category': 'Music'}\n",
      "{'_id': ObjectId('5bec5d1b98a2cd75edb0bdda'), 'event_name': 'Reggaeton vs Hip-Hop', 'start_date': 'Wednesday, 14 November', 'location': 'City Hall', 'event_info': 'Deep House  House', 'price': 'FREE ', 'category': 'Music'}\n",
      "{'_id': ObjectId('5bec5d1b98a2cd75edb0bddb'), 'event_name': 'YOLO', 'start_date': 'Wednesday, 14 November', 'location': 'Otto Zutz', 'event_info': 'Hip hop  R&B  Hits', 'price': 'FREE ', 'category': 'Music'}\n",
      "{'_id': ObjectId('5bec5d1b98a2cd75edb0bddc'), 'event_name': 'I LOVE 89 S \" 80S y 90S Hits\"', 'start_date': 'Wednesday, 14 November', 'location': 'Tarantos Club', 'event_info': 'Hits  Indie - Rock  Pop', 'price': ' €5.00', 'category': 'Music'}\n",
      "{'_id': ObjectId('5bec5d1b98a2cd75edb0bddd'), 'event_name': 'Chapter Records Showcase: Anika Kunst /Joaquín Ruíz / Motzler', 'start_date': 'Wednesday, 14 November', 'location': 'Moog', 'event_info': 'Techno', 'price': ' €8.00', 'category': 'Music'}\n",
      "{'_id': ObjectId('5bec5d1b98a2cd75edb0bdde'), 'event_name': 'AFTERWORK MUSIC DJ SUNSET. FREE ENTRANCE.', 'start_date': 'Thursday, 15 November', 'location': 'OD Barcelona', 'event_info': 'Deep House', 'price': 'FREE ', 'category': 'Music'}\n",
      "{'_id': ObjectId('5bec5d1b98a2cd75edb0bddf'), 'event_name': 'LA BODA @ Garage442', 'start_date': 'Thursday, 15 November', 'location': 'Garage 442', 'event_info': 'Electronic  Electro  Funky  Deep House', 'price': 'FREE ', 'category': 'Music'}\n",
      "{'_id': ObjectId('5bec5d1b98a2cd75edb0bde0'), 'event_name': 'Pacha-Chá | Every Thursday', 'start_date': 'Thursday, 15 November', 'location': 'Pacha Barcelona', 'event_info': 'Hits  Latin  Reggaeton', 'price': 'FREE ', 'category': 'Music'}\n",
      "{'_id': ObjectId('5bec5d1b98a2cd75edb0bde1'), 'event_name': 'B Club - Marco Faraone & Victor Fernandez', 'start_date': 'Thursday, 15 November', 'location': 'City Hall', 'event_info': 'Techno  Tech house', 'price': ' €10.00', 'category': 'Music'}\n",
      "{'_id': ObjectId('5bec5d1b98a2cd75edb0bde2'), 'event_name': 'Swag City', 'start_date': 'Thursday, 15 November', 'location': 'Shoko Barcelona', 'event_info': 'Reggaeton  R&B  Hip hop', 'price': 'FREE ', 'category': 'Music'}\n",
      "{'_id': ObjectId('5bec5d1b98a2cd75edb0bde3'), 'event_name': \"Funk D'void & Friends\", 'start_date': 'Thursday, 15 November', 'location': 'Macarena Club', 'event_info': 'Techno', 'price': 'FREE ', 'category': 'Music'}\n",
      "{'_id': ObjectId('5bec5d1b98a2cd75edb0bde4'), 'event_name': '#Wild | Every Thursday', 'start_date': 'Thursday, 15 November', 'location': 'Opium Barcelona', 'event_info': 'Electro  House  Dance', 'price': 'FREE ', 'category': 'Music'}\n",
      "{'_id': ObjectId('5bec5d1b98a2cd75edb0bde5'), 'event_name': 'Obsession | Every Thursday', 'start_date': 'Thursday, 15 November', 'location': 'Bling Bling', 'event_info': 'House  Hits', 'price': 'FREE ', 'category': 'Music'}\n",
      "{'_id': ObjectId('5bec5d1b98a2cd75edb0bde6'), 'event_name': 'Bcn Or Die | Every Thursday', 'start_date': 'Thursday, 15 November', 'location': 'Jamboree Dance Club', 'event_info': 'Hip hop  R&B', 'price': 'FREE ', 'category': 'Music'}\n",
      "{'_id': ObjectId('5bec5d1b98a2cd75edb0bde7'), 'event_name': 'Mandanga de Razzmatazz', 'start_date': 'Thursday, 15 November', 'location': 'Razzmatazz', 'event_info': 'Hits  Dance  Pop', 'price': ' €7.50', 'category': 'Music'}\n",
      "{'_id': ObjectId('5bec5d1b98a2cd75edb0bde8'), 'event_name': 'Crazy | Every Thursday', 'start_date': 'Thursday, 15 November', 'location': 'Catwalk', 'event_info': 'Hip hop  R&B  Urban', 'price': 'FREE ', 'category': 'Music'}\n",
      "{'_id': ObjectId('5bec5d1b98a2cd75edb0bde9'), 'event_name': 'Late Check Out | Thursday', 'start_date': 'Thursday, 15 November', 'location': 'Otto Zutz', 'event_info': 'Hip hop  R&B  Reggaeton', 'price': 'FREE ', 'category': 'Music'}\n",
      "{'_id': ObjectId('5bec5d1b98a2cd75edb0bdea'), 'event_name': 'Bcn or Die', 'start_date': 'Thursday, 15 November', 'location': 'Tarantos Club', 'event_info': 'Indie - Rock  R&B  Pop', 'price': ' €5.00', 'category': 'Music'}\n",
      "{'_id': ObjectId('5bec5d1b98a2cd75edb0bdeb'), 'event_name': 'La Gozadera - Fiesta Latina #FREE', 'start_date': 'Thursday, 15 November', 'location': 'La Fira Provença', 'event_info': 'Latin  Reggaeton  Hits', 'price': 'FREE ', 'category': 'Music'}\n",
      "{'_id': ObjectId('5bec5d1b98a2cd75edb0bdec'), 'event_name': 'Moog Djs: Gus Van Sound', 'start_date': 'Thursday, 15 November', 'location': 'Moog', 'event_info': 'Techno', 'price': ' €5.00', 'category': 'Music'}\n",
      "{'_id': ObjectId('5bec5d1b98a2cd75edb0bded'), 'event_name': 'JMII (Hivern Discs) @ Garage442', 'start_date': 'Friday, 16 November', 'location': 'Garage 442', 'event_info': 'Electronic  Electro  Deep House  Nu-Disco', 'price': 'FREE ', 'category': 'Music'}\n",
      "{'_id': ObjectId('5bec5d1b98a2cd75edb0bdee'), 'event_name': 'SIGHT pres. Apollonia & Mahony', 'start_date': 'Friday, 16 November', 'location': 'Pacha Barcelona', 'event_info': 'House  Techno  Tech house', 'price': 'FREE ', 'category': 'Music'}\n",
      "{'_id': ObjectId('5bec5d1b98a2cd75edb0bdef'), 'event_name': 'LOCKED pres. Modeselektor - Dj Set', 'start_date': 'Friday, 16 November', 'location': 'INPUT Dance Club', 'event_info': 'Techno  Tech house', 'price': ' €15.00', 'category': 'Music'}\n",
      "{'_id': ObjectId('5bec5d1b98a2cd75edb0bdf0'), 'event_name': 'Acid Arab @ The Loft & Fuego w/ DL Blando @ Razzclub', 'start_date': 'Friday, 16 November', 'location': 'Razzmatazz', 'event_info': 'Electronic  Techno  House', 'price': ' €15.50', 'category': 'Music'}\n",
      "{'_id': ObjectId('5bec5e3298a2cd75d669c455'), 'event_name': 'PRISM 1st anniversary with Ben Klock', 'start_date': 'Saturday, 17 November', 'location': 'INPUT Dance Club', 'event_info': 'Techno  Tech house', 'price': ' €18.00', 'category': 'Music'}\n",
      "{'_id': ObjectId('5bec5e3298a2cd75d669c456'), 'event_name': 'NOMADS pres: Sebastien Leger, Hraach, Nick Varon', 'start_date': 'Saturday, 17 November', 'location': 'Bikini', 'event_info': 'Deep House  Tech house  House', 'price': ' €10.00', 'category': 'Music'}\n",
      "{'_id': ObjectId('5bec5e3298a2cd75d669c457'), 'event_name': 'B Club - Marco Faraone & Victor Fernandez', 'start_date': 'Thursday, 15 November', 'location': 'City Hall', 'event_info': 'Techno  Tech house', 'price': ' €10.00', 'category': 'Music'}\n",
      "{'_id': ObjectId('5bec5e3298a2cd75d669c458'), 'event_name': 'SIGHT pres. Apollonia & Mahony', 'start_date': 'Friday, 16 November', 'location': 'Pacha Barcelona', 'event_info': 'House  Techno  Tech house', 'price': 'FREE ', 'category': 'Music'}\n",
      "{'_id': ObjectId('5bec5e3298a2cd75d669c459'), 'event_name': 'R33 Barcelona present: Anja Schneider', 'start_date': 'Saturday, 17 November', 'location': 'R33 Club', 'event_info': 'Techno  Minimal  Electronic  Electro', 'price': ' €15.00', 'category': 'Music'}\n",
      "{'_id': ObjectId('5bec5e3298a2cd75d669c45a'), 'event_name': 'Blackstone pres. Chelina Manuhutu', 'start_date': 'Sunday, 18 November', 'location': 'Opium Barcelona', 'event_info': 'Electro  House  Dance', 'price': 'FREE ', 'category': 'Music'}\n",
      "{'_id': ObjectId('5bec5e3298a2cd75d669c45b'), 'event_name': 'This Side UP w/ Zombies in Miami Live - Moderna  (FREE ALL NIGHT LONG)', 'start_date': 'Friday, 16 November', 'location': 'This Side UP', 'event_info': 'Electro  Techno', 'price': 'FREE ', 'category': 'Music'}\n",
      "{'_id': ObjectId('5bec5e3298a2cd75d669c45c'), 'event_name': 'Acid Arab @ The Loft & Fuego w/ DL Blando @ Razzclub', 'start_date': 'Friday, 16 November', 'location': 'Razzmatazz', 'event_info': 'Electronic  Techno  House', 'price': ' €15.50', 'category': 'Music'}\n",
      "{'_id': ObjectId('5bec5e3298a2cd75d669c45d'), 'event_name': 'LOCKED pres. Modeselektor - Dj Set', 'start_date': 'Friday, 16 November', 'location': 'INPUT Dance Club', 'event_info': 'Techno  Tech house', 'price': ' €15.00', 'category': 'Music'}\n",
      "{'_id': ObjectId('5bec5e3298a2cd75d669c45e'), 'event_name': 'SPECTRUM SEQUENCE w/ MOREENO', 'start_date': 'Wednesday, 14 November', 'location': 'Garage 442', 'event_info': 'Electronic  Electro  Funky', 'price': 'FREE ', 'category': 'Music'}\n",
      "{'_id': ObjectId('5bec5e3298a2cd75d669c45f'), 'event_name': 'BACK2BLACK - Opening party', 'start_date': 'Wednesday, 14 November', 'location': 'Pacha Barcelona', 'event_info': 'Hip hop  R&B', 'price': 'FREE ', 'category': 'Music'}\n",
      "{'_id': ObjectId('5bec5e3298a2cd75d669c460'), 'event_name': 'Pop That Party - Undeey (Dj Set)', 'start_date': 'Wednesday, 14 November', 'location': 'Shoko Barcelona', 'event_info': 'Hip hop  R&B  Reggae - Dancehall', 'price': 'FREE ', 'category': 'Music'}\n",
      "{'_id': ObjectId('5bec5e3298a2cd75d669c461'), 'event_name': 'Mistress', 'start_date': 'Wednesday, 14 November', 'location': 'Macarena Club', 'event_info': 'Techno', 'price': 'FREE ', 'category': 'Music'}\n",
      "{'_id': ObjectId('5bec5e3298a2cd75d669c462'), 'event_name': 'Ladies Night | Every Wednesday', 'start_date': 'Wednesday, 14 November', 'location': 'Opium Barcelona', 'event_info': 'House  Hits  Electronic', 'price': 'FREE ', 'category': 'Music'}\n",
      "{'_id': ObjectId('5bec5e3298a2cd75d669c463'), 'event_name': 'Dj Mastie', 'start_date': 'Wednesday, 14 November', 'location': 'Jamboree Dance Club', 'event_info': 'Hip hop  R&B  Urban', 'price': nan, 'category': 'Music'}\n",
      "{'_id': ObjectId('5bec5e3298a2cd75d669c464'), 'event_name': 'El Dirty de Razzmatazz', 'start_date': 'Wednesday, 14 November', 'location': 'Razzmatazz', 'event_info': 'Hits  Dance  Pop', 'price': ' €11.50', 'category': 'Music'}\n",
      "{'_id': ObjectId('5bec5e3298a2cd75d669c465'), 'event_name': 'Reggaeton vs Hip-Hop', 'start_date': 'Wednesday, 14 November', 'location': 'City Hall', 'event_info': 'Deep House  House', 'price': 'FREE ', 'category': 'Music'}\n",
      "{'_id': ObjectId('5bec5e3298a2cd75d669c466'), 'event_name': 'YOLO', 'start_date': 'Wednesday, 14 November', 'location': 'Otto Zutz', 'event_info': 'Hip hop  R&B  Hits', 'price': 'FREE ', 'category': 'Music'}\n",
      "{'_id': ObjectId('5bec5e3298a2cd75d669c467'), 'event_name': 'I LOVE 89 S \" 80S y 90S Hits\"', 'start_date': 'Wednesday, 14 November', 'location': 'Tarantos Club', 'event_info': 'Hits  Indie - Rock  Pop', 'price': ' €5.00', 'category': 'Music'}\n",
      "{'_id': ObjectId('5bec5e3298a2cd75d669c468'), 'event_name': 'Chapter Records Showcase: Anika Kunst /Joaquín Ruíz / Motzler', 'start_date': 'Wednesday, 14 November', 'location': 'Moog', 'event_info': 'Techno', 'price': ' €8.00', 'category': 'Music'}\n",
      "{'_id': ObjectId('5bec5e3298a2cd75d669c469'), 'event_name': 'AFTERWORK MUSIC DJ SUNSET. FREE ENTRANCE.', 'start_date': 'Thursday, 15 November', 'location': 'OD Barcelona', 'event_info': 'Deep House', 'price': 'FREE ', 'category': 'Music'}\n",
      "{'_id': ObjectId('5bec5e3298a2cd75d669c46a'), 'event_name': 'LA BODA @ Garage442', 'start_date': 'Thursday, 15 November', 'location': 'Garage 442', 'event_info': 'Electronic  Electro  Funky  Deep House', 'price': 'FREE ', 'category': 'Music'}\n",
      "{'_id': ObjectId('5bec5e3298a2cd75d669c46b'), 'event_name': 'Pacha-Chá | Every Thursday', 'start_date': 'Thursday, 15 November', 'location': 'Pacha Barcelona', 'event_info': 'Hits  Latin  Reggaeton', 'price': 'FREE ', 'category': 'Music'}\n",
      "{'_id': ObjectId('5bec5e3298a2cd75d669c46c'), 'event_name': 'B Club - Marco Faraone & Victor Fernandez', 'start_date': 'Thursday, 15 November', 'location': 'City Hall', 'event_info': 'Techno  Tech house', 'price': ' €10.00', 'category': 'Music'}\n",
      "{'_id': ObjectId('5bec5e3298a2cd75d669c46d'), 'event_name': 'Swag City', 'start_date': 'Thursday, 15 November', 'location': 'Shoko Barcelona', 'event_info': 'Reggaeton  R&B  Hip hop', 'price': 'FREE ', 'category': 'Music'}\n",
      "{'_id': ObjectId('5bec5e3298a2cd75d669c46e'), 'event_name': \"Funk D'void & Friends\", 'start_date': 'Thursday, 15 November', 'location': 'Macarena Club', 'event_info': 'Techno', 'price': 'FREE ', 'category': 'Music'}\n",
      "{'_id': ObjectId('5bec5e3298a2cd75d669c46f'), 'event_name': '#Wild | Every Thursday', 'start_date': 'Thursday, 15 November', 'location': 'Opium Barcelona', 'event_info': 'Electro  House  Dance', 'price': 'FREE ', 'category': 'Music'}\n",
      "{'_id': ObjectId('5bec5e3298a2cd75d669c470'), 'event_name': 'Obsession | Every Thursday', 'start_date': 'Thursday, 15 November', 'location': 'Bling Bling', 'event_info': 'House  Hits', 'price': 'FREE ', 'category': 'Music'}\n",
      "{'_id': ObjectId('5bec5e3298a2cd75d669c471'), 'event_name': 'Bcn Or Die | Every Thursday', 'start_date': 'Thursday, 15 November', 'location': 'Jamboree Dance Club', 'event_info': 'Hip hop  R&B', 'price': 'FREE ', 'category': 'Music'}\n",
      "{'_id': ObjectId('5bec5e3298a2cd75d669c472'), 'event_name': 'Mandanga de Razzmatazz', 'start_date': 'Thursday, 15 November', 'location': 'Razzmatazz', 'event_info': 'Hits  Dance  Pop', 'price': ' €7.50', 'category': 'Music'}\n",
      "{'_id': ObjectId('5bec5e3298a2cd75d669c473'), 'event_name': 'Crazy | Every Thursday', 'start_date': 'Thursday, 15 November', 'location': 'Catwalk', 'event_info': 'Hip hop  R&B  Urban', 'price': 'FREE ', 'category': 'Music'}\n",
      "{'_id': ObjectId('5bec5e3298a2cd75d669c474'), 'event_name': 'Late Check Out | Thursday', 'start_date': 'Thursday, 15 November', 'location': 'Otto Zutz', 'event_info': 'Hip hop  R&B  Reggaeton', 'price': 'FREE ', 'category': 'Music'}\n",
      "{'_id': ObjectId('5bec5e3298a2cd75d669c475'), 'event_name': 'Bcn or Die', 'start_date': 'Thursday, 15 November', 'location': 'Tarantos Club', 'event_info': 'Indie - Rock  R&B  Pop', 'price': ' €5.00', 'category': 'Music'}\n",
      "{'_id': ObjectId('5bec5e3298a2cd75d669c476'), 'event_name': 'La Gozadera - Fiesta Latina #FREE', 'start_date': 'Thursday, 15 November', 'location': 'La Fira Provença', 'event_info': 'Latin  Reggaeton  Hits', 'price': 'FREE ', 'category': 'Music'}\n",
      "{'_id': ObjectId('5bec5e3298a2cd75d669c477'), 'event_name': 'Moog Djs: Gus Van Sound', 'start_date': 'Thursday, 15 November', 'location': 'Moog', 'event_info': 'Techno', 'price': ' €5.00', 'category': 'Music'}\n",
      "{'_id': ObjectId('5bec5e3298a2cd75d669c478'), 'event_name': 'JMII (Hivern Discs) @ Garage442', 'start_date': 'Friday, 16 November', 'location': 'Garage 442', 'event_info': 'Electronic  Electro  Deep House  Nu-Disco', 'price': 'FREE ', 'category': 'Music'}\n",
      "{'_id': ObjectId('5bec5e3298a2cd75d669c479'), 'event_name': 'SIGHT pres. Apollonia & Mahony', 'start_date': 'Friday, 16 November', 'location': 'Pacha Barcelona', 'event_info': 'House  Techno  Tech house', 'price': 'FREE ', 'category': 'Music'}\n",
      "{'_id': ObjectId('5bec5e3298a2cd75d669c47a'), 'event_name': 'LOCKED pres. Modeselektor - Dj Set', 'start_date': 'Friday, 16 November', 'location': 'INPUT Dance Club', 'event_info': 'Techno  Tech house', 'price': ' €15.00', 'category': 'Music'}\n",
      "{'_id': ObjectId('5bec5e3298a2cd75d669c47b'), 'event_name': 'Acid Arab @ The Loft & Fuego w/ DL Blando @ Razzclub', 'start_date': 'Friday, 16 November', 'location': 'Razzmatazz', 'event_info': 'Electronic  Techno  House', 'price': ' €15.50', 'category': 'Music'}\n"
     ]
    }
   ],
   "source": [
    "for d in col_xceed.find():\n",
    "    print (d)"
   ]
  },
  {
   "cell_type": "code",
   "execution_count": 12,
   "metadata": {
    "collapsed": false
   },
   "outputs": [
    {
     "name": "stdout",
     "output_type": "stream",
     "text": [
      "{'_id': ObjectId('5bde23f125dc9adb78e8516d'), 'lat': '41.40071', 'long': '2.194979', 'start_date': '2018-11-01 17:00:00', 'event_name': 'Fiesta de Dia de muertos / Day of the Dead street Party'}\n",
      "{'_id': ObjectId('5bde23f125dc9adb78e85181'), 'lat': '41.381424', 'long': '2.180259', 'start_date': '2018-11-02 20:00:00', 'event_name': 'Friday Party at The Benedict Bar'}\n",
      "{'_id': ObjectId('5bde23f125dc9adb78e85183'), 'lat': '41.381424', 'long': '2.180259', 'start_date': '2018-11-02 20:00:00', 'event_name': 'Mojito Party - Free Shots'}\n",
      "{'_id': ObjectId('5bde23f125dc9adb78e8518d'), 'lat': '41.37797', 'long': '2.178366', 'start_date': '2018-11-03 19:00:00', 'event_name': 'Expat Cocktail Party at Margarita Blue'}\n",
      "{'_id': ObjectId('5bde23f125dc9adb78e85190'), 'lat': '41.390221', 'long': '2.170444', 'start_date': '2018-11-03 21:30:00', 'event_name': 'International Meetup Party!'}\n",
      "{'_id': ObjectId('5bde23f125dc9adb78e85191'), 'lat': '41.39022', 'long': '2.170444', 'start_date': '2018-11-03 21:30:00', 'event_name': 'The International Meetup Party'}\n",
      "{'_id': ObjectId('5bde23f125dc9adb78e85195'), 'lat': '41.38599', 'long': '2.174521', 'start_date': '2018-11-04 15:00:00', 'event_name': 'Aristóteles: Ética a Nicodemo\" 1er encuentro de Filosofía en Noviembre: Español;255768823\\n41.383026;2.170574;1541354400000;Polyglot event;255746223\\n41.380615;2.180216;1541354400000;Sunday Social Meeting;rjcmdqyxpbgb\\n41.380615;2.180216;1541354400000;SOCIAL MEETING;cmkbkqyxpbgb\\n41.397526;2.202418;1541354400000;Pa\\' qué nos conquistan 2.0 en el Belafonte!;255914580\\n41.384583;2.182584;1541354400000;Game Night: Werewolves!! (Sundays) in English;nwmgkqyxpbgb\\n41.387978;2.167403;1541399400000;Pop! in English in the morning;mlzdlqyxpbhb\\n41.387978;2.167403;1541401200000;Pop! in English in the morning;qpzdlqyxpbhb\\n41.38781;2.166432;1541408400000;Vennmón Intercambio Lingüístico Inglés/catalán-castellano;mrpmspyxpbhb\\n41.394115;2.146597;1541412000000;English Language Conversation in Small Group of 6 to 8 people;dknnkqyxpbhb\\n41.388584;2.175842;1541426400000;Spanish FREE WEEK lessons for totally beginners A1 level! :);255997526\\n41.399616;2.152854;1541430000000;Clases Económicas de Inglés Nivel A2 (bajo);twqvkqyxpbhb\\n41.40247;2.154299;1541440800000;Conversa en Català;rzfffqyxpbhb\\n41.387226;2.167677;1541443500000;Language Exchange - Japanese And Spanish;fptlkqyxpbhb\\n41.387226;2.167677;1541444400000;Intercambio de idiomas frances-español Échange linguistique franco-espagnol;qttlkqyxpbhb\\n41.384583;2.182584;1541444400000;Themes Language Exchange;glwrkqyxpbhb\\n41.422649;2.180281;1541446200000;FREE GRATIS LANGUAGE  SWAP ENGLISH-SPANISH MEETING;mzhccqyxpbhb\\n41.387917;2.169919;1541448000000;Monday Meeting at MY PLACE;kmkbkqyxpbhb\\n41.387917;2.169919;1541448000000;Monday Secret Meeting;pmdblqyxpbhb\\n41.387978;2.167403;1541507400000;Pop! in English on your break;rnzdlqyxpbjb\\n41.387978;2.167403;1541509200000;Pop! in English on your break;lnzdlqyxpbjb\\n41.387978;2.167403;1541525400000;Pop! in English after work;nvzdlqyxpbjb\\n41.391506;2.15785;1541525400000;Clase de inglés - Martes - en la que mezclaremos conversación ☕ con gramática ⚙;255060413\\n41.382862;2.155539;1541527200000;Der Stammtisch 06.11.2018;255912824\\n41.387978;2.167403;1541527200000;Pop! in English after work;jdbflqyxpbjb\\n41.377972;2.178366;1541530800000;Social Language Exchange in the margarita blue;kvjxgqyxpbjb\\n41.377973;2.178366;1541530800000;Language Exchange at Margarita Blue;whtkdqyxpbjb\\n41.3927;2.154454;1541530800000;Language Exchange-Tandem \"Intercambio Lingüístico\" @Monkey Factory(Tuesdays);vtbjqpyxpbjb\\n41.387978;2.167403;1541572200000;Pop! in English in the morning;mlzdlqyxpbkb\\n41.387978;2.167403;1541574000000;Pop! in English in the morning;qpzdlqyxpbkb\\n41.380745;2.180764;1541613600000;The Wednesday Language Exchange;jspqvpyxpbkb\\n41.380615;2.180216;1541613600000;Afterwork Italian APERITIVO (free food);lmkbkqyxpbkb\\n41.380615;2.180216;1541613600000;Afterwork Italian APERITIVO (free food if you drink);djtkdqyxpbkb\\n41.382263;2.187228;1541617200000;Board Games English/Spanish (Wednesdays);ljnpkqyxpbkb\\n41.407257;2.176937;1541617200000;Lenguage exchange English-French-Spanish;fszxfqyxpbkb\\n41.401745;2.15518;1541620800000;Spanish - Japanese - Chinese Speaking Meeting (Wednesday);thpfqpyxpbkb\\n41.391506;2.15785;1541667600000;Clase de inglés - Jueves mañana - conversación ☕ con gramática ⚙;255904916\\n41.387978;2.167403;1541680200000;Pop! in English on your break;rnzdlqyxpblb\\n41.387978;2.167403;1541682000000;Pop! in English on your break;lnzdlqyxpblb\\n41.387978;2.167403;1541698200000;Pop! in English after work;nvzdlqyxpblb\\n41.388584;2.175842;1541700000000;Thursday Practice your Spanish. Medium-advanced levels (B1-C1).;njjlkqyxpblb\\n41.387978;2.167403;1541700000000;Pop! in English after work;jdbflqyxpblb\\n41.387226;2.167677;1541701800000;Intercambio alemán-español / Deutsch-Spanisch Austausch;pgvxkqyxpblb\\n41.387226;2.167677;1541703600000;INTERCAMBIO ITALIANO-ESPAÑOL;kqrmkqyxpblb\\n41.39188;2.154558;1541703600000;Thursday Language Exchange;qjkgrpyxpblb\\n41.387226;2.167677;1541703600000;Exchange - Polish, Czech, Ucrainian, Slavic languages And Spanish/Catalan;ftgmkqyxpblb\\n41.389;2.156651;1541703600000;LES FRANCOPHONES DE BARCELONE;fkttkqyxpblb\\n41.379211;2.178892;1541707200000;The Oldest International Meetup in Barcelona - Polaroid;cndblqyxpblb\\n41.379211;2.178892;1541710800000;The oldest International Meeting Revolution. Thursday Polaroid bar.;mmkbkqyxpblb\\n41.40247;2.187397;1541782800000;Barcelona English Debate;tjbbgqyxpbdb\\n41.386047;2.176434;1541788200000;DIVERSIÓN CON JUEGOS VARIADOS  JAPÓN-ESPAÑA;grmcjqyxpbmb\\n41.53973;2.448022;1541790000000;Soirées vins et fromages;255302099\\n41.384483;2.184863;1541790000000;The Friday Language Exchange;ltcsjqyxpbmb\\n41.384483;2.184863;1541790000000;Friday Language Exchange;nscsjqyxpbmb\\n41.381424;2.180259;1541793600000;Mojito Party - Free Shots;rmkbkqyxpbmb\\n41.381424;2.180259;1541793600000;Friday Party at The Benedict Bar;fndblqyxpbmb\\n41.375847;2.164807;1541793600000;Weekend´s Multilingual Exchange;rkspnnyxpbmb\\n41.389374;2.146891;1541794500000;Spanish - Japanese - Chinese Speaking Meeting (Friday);tjpfqpyxpbmb\\n0;0;1541833200000;Otoño en el Collsacabra: espectacular caminata desde Tavertet a Rupit;255293651\\n41.384598;2.166016;1541847600000;La BARCELONA OBRERA, ANARQUISTA Y REBELDE;255933216\\n41.406532;2.149468;1541853000000;PARK GUELL IN ENGLISH/SPANISH Aprendamos ingles (and Spanish) de forma amena!;248431770\\n41.382767;2.177163;1541871000000;RUTA LA REPÚBLICA Y LA GUERRA CIVIL EN BARCELONA;255933251\\n41.377972;2.178366;1541876400000;Expat Cocktail Party at Margarita Blue;rmdblqyxpbnb\\n41.377972;2.178366;1541880000000;Saturday Night in margarita blue;xkkbkqyxpbnb\\n41.3927;2.154454;1541883600000;International Meeting Saturday Night!;fttlfqyxpbnb\\n0;0;1541921400000;Otoño en la Garrotxa: La Fageda d\\'en Jordà + volcán Santa Margarida + Santa Pau;255019698\\n41.38934;2.172928;1541957400000;¡NUEVA RUTA! LA BARCELONA ANTIFRANQUISTA;255933154\\n41.380615;2.180216;1541959200000;SOCIAL MEETING;cmkbkqyxpbpb\\n41.380615;2.180216;1541959200000;Sunday Social Meeting;rjcmdqyxpbpb\\n41.384583;2.182584;1541959200000;Game Night: Werewolves!! (Sundays) in English;nwmgkqyxpbpb\\n41.387978;2.167403;1542004200000;Pop! in English in the morning;mlzdlqyxpbqb\\n41.387978;2.167403;1542006000000;Pop! in English in the morning;qpzdlqyxpbqb\\n41.394115;2.146597;1542016800000;English Conversation in Small Group of 6 to 8 people;dknnkqyxpbqb\\n41.39564;2.150034;1542045600000;Taller de Cocina Siria;255083769\\n41.387226;2.167677;1542048300000;Language Exchange - Japanese And Spanish;fptlkqyxpbqb\\n41.384583;2.182584;1542049200000;Themes Language Exchange;glwrkqyxpbqb\\n41.387917;2.169919;1542052800000;Monday Meeting at MY PLACE;kmkbkqyxpbqb\\n41.387978;2.167403;1542112200000;Pop! in English on your break;rnzdlqyxpbrb\\n41.387978;2.167403;1542114000000;Pop! in English on your break;lnzdlqyxpbrb\\n41.391506;2.15785;1542130200000;Clase de inglés - Martes - en la que mezclaremos conversación ☕ con gramática ⚙;255060437\\n41.387978;2.167403;1542130200000;Pop! in English after work;nvzdlqyxpbrb\\n41.377972;2.178366;1542135600000;Social Language Exchange in the margarita blue;kvjxgqyxpbrb\\n41.3927;2.154454;1542135600000;Language Exchange-Tandem \"Intercambio Lingüístico\" @Monkey Factory(Tuesdays);vtbjqpyxpbrb\\n41.387978;2.167403;1542177000000;Pop! in English in the morning;mlzdlqyxpbsb\\n41.380615;2.180216;1542218400000;Afterwork Italian APERITIVO (free food);lmkbkqyxpbsb\\n41.382263;2.187228;1542222000000;Board Games English/Spanish (Wednesdays);ljnpkqyxpbsb\\n41.401745;2.15518;1542225600000;Spanish - Japanese - Chinese Speaking Meeting (Wednesday);thpfqpyxpbsb\\n41.386639;2.179963;1542304800000;Speak English & Meet New People / Habla inglés y conoce gente nueva;wsrblqyxpbtb\\n41.375957;2.159461;1542306600000;Taller de Oratoria en Español · Public Speaking Workshop;255613442\\n41.387226;2.167677;1542306600000;Intercambio alemán-español / Deutsch-Spanisch Austausch;pgvxkqyxpbtb\\n41.39188;2.154558;1542308400000;Thursday Language Exchange;qjkgrpyxpbtb\\n41.404121;2.159393;1542391200000;Language Exchange at Ateneu Roig de Gràcia;mztkjpyxpbvb\\n41.386047;2.176434;1542393000000;DIVERSIÓN CON JUEGOS VARIADOS  JAPÓN-ESPAÑA;grmcjqyxpbvb\\n41.384483;2.184863;1542394800000;The Friday Language Exchange;ltcsjqyxpbvb\\n41.384483;2.184863;1542394800000;Friday Language Exchange;nscsjqyxpbvb\\n41.389374;2.146891;1542399300000;Spanish - Japanese - Chinese Speaking Meeting (Friday);tjpfqpyxpbvb\\n41.380745;2.180764;1542403800000;Rumba Catalana en el Gótico / Beer, tapas & much more!;255691981\\nNone;None;1542475800000;English Speaking club ;254933410\\n41.3927;2.154454;1542488400000;International Meeting Saturday Night!;fttlfqyxpbwb\\n0;0;1542526200000;Descubre el Ripollès: ruta del hierro desde Sant Joan de les Abadesses a Ripoll ;255664894\\n41.385063;2.173404;1542553200000;Technology (Artificial intelligence): 2nd Encounter: English (Spanish Welcome);255940885\\n41.384583;2.182584;1542564000000;Game Night: Werewolves!! (Sundays) in English;nwmgkqyxpbxb\\n41.387226;2.167677;1542654000000;Intercambio de idiomas frances-español Échange linguistique franco-espagnol;qttlkqyxpbzb\\n41.384583;2.182584;1542654000000;Themes Language Exchange;glwrkqyxpbzb\\n41.391506;2.15785;1542735000000;Clase de inglés - Martes - en la que mezclaremos conversación ☕ con gramática ⚙;255060457\\n41.3927;2.154454;1542740400000;Language Exchange-Tandem \"Intercambio Lingüístico\" @Monkey Factory(Tuesdays);vtbjqpyxpbbc\\n41.401745;2.15518;1542830400000;Spanish - Japanese - Chinese Speaking Meeting (Wednesday);thpfqpyxpbcc\\n41.382107;2.181292;1542906000000;Yeni Mahsül Şarap Festivali 2018 (Fiesta del Vino Joven 2018);255856588\\n41.39188;2.154558;1542913200000;Thursday Language Exchange;qjkgrpyxpbdc\\n41.37654;2.17518;1542915000000;The International Networking Meetup!;255794852\\n41.384483;2.184863;1542999600000;The Friday Language Exchange;ltcsjqyxpbfc\\n41.384483;2.184863;1542999600000;Friday Language Exchange;nscsjqyxpbfc\\n41.389374;2.146891;1543004100000;Spanish - Japanese - Chinese Speaking Meeting (Friday);tjpfqpyxpbfc\\n0;0;1543044600000;Descubre la \"Vall d\\'en Bas\" y camina hasta el espectacular Salt de Sallent;255664037\\n41.390156;2.156798;1543093200000;80\\'s COMEBACK! ENGLISH-SPANISH PARTY;255942530\\n41.390156;2.156798;1543093200000;80\\'s COMEBACK! ENGLISH-SPANISH PARTY;255942485\\n41.390156;2.156798;1543093200000;80\\'s COMEBACK! ENGLISH-SPANISH PARTY;255942414\\n41.390156;2.156798;1543093200000;80\\'s COMEBACK! ENGLISH-SPANISH PARTY;255942364\\n41.3927;2.154454;1543093200000;International Meeting Saturday Night!;fttlfqyxpbgc\\n41.384583;2.182584;1543168800000;Game Night: Werewolves!! (Sundays) in English;nwmgkqyxpbhc\\n41.384583;2.182584;1543258800000;Themes Language Exchange;glwrkqyxpbjc\\n41.391506;2.15785;1543339800000;Clase de inglés - Martes - en la que mezclaremos conversación ☕ con gramática ⚙;255060465\\n41.3927;2.154454;1543345200000;Language Exchange-Tandem \"Intercambio Lingüístico\" @Monkey Factory(Tuesdays);vtbjqpyxpbkc\\n41.401745;2.15518;1543435200000;Spanish - Japanese - Chinese Speaking Meeting (Wednesday);thpfqpyxpblc\\n41.39188;2.154558;1543518000000;Thursday Language Exchange;qjkgrpyxpbmc\\n41.38357;2.163183;1543519800000;Chinese - Spanish mixer  |  Jaleo话痨会;nmmblqyxpbmc\\n41.53973;2.448022;1543604400000;Cheese & wine in Coworking Xammar;qtqldlyxpbnc\\n41.384483;2.184863;1543604400000;The Friday Language Exchange;ltcsjqyxpbnc\\n41.384483;2.184863;1543604400000;Friday Language Exchange;nscsjqyxpbnc\\n41.609741;2.286803;1543606200000;Time to Talk;rpcxdpyxpbnc\\n41.389374;2.146891;1543608900000;Spanish - Japanese - Chinese Speaking Meeting (Friday);tjpfqpyxpbnc\\n41.446896;2.17322;1543662000000;Paella party at home;255617509\\n41.3927;2.154454;1543698000000;International Meeting Saturday Night!;fttlfqyxqbcb\\n41.384583;2.182584;1543773600000;Game Night: Werewolves!! (Sundays) in English;nwmgkqyxqbdb\\n41.384583;2.182584;1543863600000;Themes Language Exchange;glwrkqyxqbfb\\n41.391506;2.15785;1543944600000;Clase de inglés - Martes - en la que mezclaremos conversación ☕ con gramática ⚙;255639029\\nNone;None;1543946400000;Personas interesadas en clases de conversación en francés;jjdwtnyxqbgb\\n41.3927;2.154454;1543950000000;Language Exchange-Tandem \"Intercambio Lingüístico\" @Monkey Factory(Tuesdays);vtbjqpyxqbgb\\n41.380745;2.180764;1544032800000;The Wednesday Language Exchange;jspqvpyxqbhb\\n41.39188;2.154558;1544122800000;Thursday Language Exchange;qjkgrpyxqbjb\\n41.38357;2.163183;1544124600000;Chinese - Spanish mixer  |  Jaleo话痨会;nmmblqyxqbjb\\n41.40247;2.187397;1544202000000;Barcelona English Debate;tjbbgqyxqbkb\\n41.384483;2.184863;1544209200000;The Friday Language Exchange;ltcsjqyxqbkb\\n41.386894;2.162216;1544209200000;FREE Friday Languages Exchange at BERENJENAL;trnwqlyxpbdb\\n41.384483;2.184863;1544209200000;Friday Language Exchange;nscsjqyxqbkb\\n41.3927;2.154454;1544302800000;International Meeting Saturday Night!;fttlfqyxqblb\\n41.384583;2.182584;1544378400000;Game Night: Werewolves!! (Sundays) in English;nwmgkqyxqbmb\\n41.384583;2.182584;1544468400000;Themes Language Exchange;glwrkqyxqbnb\\n41.391506;2.15785;1544549400000;Clase de inglés - Martes - en la que mezclaremos conversación ☕ con gramática ⚙;255639075\\n41.3927;2.154454;1544554800000;Language Exchange-Tandem \"Intercambio Lingüístico\" @Monkey Factory(Tuesdays);vtbjqpyxqbpb\\n41.38357;2.163183;1544729400000;Chinese - Spanish mixer  |  Jaleo话痨会;nmmblqyxqbrb\\n41.404121;2.159393;1544810400000;Language Exchange at Ateneu Roig de Gràcia;mztkjpyxqbcc\\n41.384483;2.184863;1544814000000;The Friday Language Exchange;ltcsjqyxqbsb\\n41.384483;2.184863;1544814000000;Friday Language Exchange;nscsjqyxqbsb\\n41.355293;2.106674;1544896800000;ARTEHOS- 2018;254938617\\n41.355293;2.106674;1544898600000;ARTEHOS 2018;254937865\\n41.355293;2.106674;1544898600000;ARTEHOS-2018;254938483\\n41.3927;2.154454;1544907600000;International Meeting Saturday Night!;fttlfqyxqbtb\\n41.384583;2.182584;1544983200000;Game Night: Werewolves!! (Sundays) in English;nwmgkqyxqbvb\\n41.384583;2.182584;1545073200000;Themes Language Exchange;glwrkqyxqbwb\\n41.3927;2.154454;1545159600000;Language Exchange-Tandem \"Intercambio Lingüístico\" @Monkey Factory(Tuesdays);vtbjqpyxqbxb\\n41.38357;2.163183;1545334200000;Chinese - Spanish mixer  |  Jaleo话痨会;nmmblqyxqbbc\\n41.384483;2.184863;1545418800000;The Friday Language Exchange;ltcsjqyxqbcc\\n41.384483;2.184863;1545418800000;Friday Language Exchange;nscsjqyxqbcc\\n41.3927;2.154454;1545512400000;International Meeting Saturday Night!;fttlfqyxqbdc\\n41.384583;2.182584;1545588000000;Game Night: Werewolves!! (Sundays) in English;nwmgkqyxqbfc\\n41.384583;2.182584;1545678000000;Themes Language Exchange;glwrkqyxqbgc\\n41.382263;2.187228;1545850800000;Board Games English/Spanish (Wednesdays);ljnpkqyxqbjc\\n41.39187;2.154552;1545937200000;The Thursday Language Exchange;knghbqyxqbkc\\n41.38357;2.163183;1545939000000;Chinese - Spanish mixer  |  Jaleo话痨会;nmmblqyxqbkc\\n41.384483;2.184863;1546023600000;The Friday Language Exchange;ltcsjqyxqblc\\n41.384483;2.184863;1546023600000;Friday Language Exchange;nscsjqyxqblc\\n41.3927;2.154454;1546117200000;International Meeting Saturday Night!;fttlfqyxqbmc\\n41.384583;2.182584;1546192800000;Game Night: Werewolves!! (Sundays) in English;nwmgkqyxqbnc\\n41.40247;2.187397;1546621200000;Barcelona English Debate;tjbbgqyzcbgb\\n41.384483;2.184863;1546628400000;Friday Language Exchange;nscsjqyzcbgb\\n41.384483;2.184863;1547233200000;Friday Language Exchange;nscsjqyzcbpb\\n41.404121;2.159393;1547834400000;Language Exchange at Ateneu Roig de Gràcia;mztkjpyzcbxb\\n41.385849;2.174215;1549564200000;Escapada BILINGUE de Semana Santa/Let\\'s meet for our next SPANGLISH holidays!;247455627\\n41.385849;2.174215;1549564200000;Escapada BILINGUE de Semana Santa/Let\\'s meet for our next SPANGLISH holidays!;247455575\\n!#\\n#12\\n41.380127;2.176881;1541098800000;Derv Gordon of The Equals en concierto;255697101\\n41.385303;2.182869;1541179800000;Global Gay Professionals BCN - Friday After Work Drinks #18;zfbgjpyxqblc\\n41.387226;2.167677;1541275200000;Cóctels&Jazz en Sala Milano;255502446\\n41.401672;2.156761;1541529000000;Quedada LGTBI+ en Gracia;255794206\\n41.375645;2.154528;1541793600000;Friday gourmet tapas dinner;255921971\\n41.385303;2.182869;1543599000000;Global Gay Professionals BCN - Friday After Work Drinks #19;zfbgjpyzcbhc\\n41.385303;2.182869;1544808600000;Global Gay Professionals BCN - Friday After Work Drinks #20;zfbgjpyzdbdc\\n!#\\n#17\\n!#\\n#20\\n41.380554;2.168672;1541183400000;RAINDANCE MIXER Barcelona! The best networking for filmmakers in town!;rdwffqyxpbdb\\n0;0;1541615400000;CINEFÒRUM | Pioneres avantguardistes;255168335\\n41.382557;2.165397;1541701800000;Barcelona Short Films by Short Cut Cine & Jägermeister;gdsphqyxpblb\\n41.383888;2.166785;1541950200000;Empecemos: charla + café + exposición Stanley Kubrick en el CCCB;255737352\\n41.390156;2.156798;1543093200000;\"VOLVER A EMPEZAR!\": 80\\'s COMEBACK! ENGLISH-SPANISH PARTY;255943143\\n!#\\n#21\\nNone;None;1541059200000;Puente de Noviembre: Otoño en la Selva de Irati y Navarra;255228630\\n41.397633;2.190743;1541095200000;Kataklysm + Hypocrisy en Razzmatazz;255084543\\n41.390209;2.160295;1541097000000;AFTERWORK: INAUGURACIÓN DE LOS NUEVOS JUEVES GRUPPIT. CON GRANDES SORTEOS;ftqjkqyxpbcb\\n41.393803;2.167628;1541097000000;Afterwork HALLOWEEN with RAUL ORELLANA. OD Barcelona Hotel. Entrada libre;255930745\\n41.380127;2.176881;1541098800000;Derv Gordon of The Equals en concierto;255697101\\n41.380596;2.175084;1541098800000;CLARENCE BEKKER ;plcrfqyxpbcb\\n41.379173;2.165902;1541102400000;Open Mic @ Big Bang Bar!;gbtltpyxpbcb\\n41.377827;2.121712;1541185200000;CONCIERTO LIRICO - DESCUBRE LAS LEYENDAS DE LA OPERA;255981953\\n41.379173;2.165902;1541188800000;Jazz Jam Session @ Big Bang Bar;jcqjwlyxpbdb\\n41.398983;2.159234;1541241000000;\"La Bohemia\" Primer Peña Latinoamericana de Barcelona (entrada Libre y Gratuita);vbcnhqyxpbfb\\nNone;None;1541242800000;Vermut musical secreto n.1;255854076\\n41.38858;2.176901;1541257200000;Ukelele Workshop for Begginers, \"llibreria Proleg\".;255417626\\nNone;None;1541271600000;Beers in Ballbreaker metal bar in Gracia ;255662935\\n41.388176;2.178583;1541446200000;New Singing Group for Beginners - all welcome, no experience needed!;xtkhjqyxpbhb\\n41.40515;2.152894;1541534400000;MY SINGING GROUP BCN - 21:00 in Gracia ;255980872\\n41.388603;2.180815;1541534400000;Jam Session - Urban/Funk/Electronic Music.Music and Visual Show!!!;kpvzkqyxpbjb\\n41.404469;2.156936;1541536200000;Flamenco Show (free entrance);rkfvmpyxpbjb\\n41.396149;2.189381;1541617200000;Studio Jam Session @ Grammophonia;cgvtkqyxpbkb\\n41.372803;2.163264;1541701800000;FIVE WINES, FIVE JAZZ STYLES - CINCO VINOS, CINCO ESTILOS DE JAZZ;255866491\\n41.39695;2.191913;1541759400000;90’s party in DIXI 724 ;255689282\\n41.397736;2.201535;1541790000000;Tributo a Red Hot Chili Peppers y Foo Fighters @ Sala Boveda;255161402\\n41.38725;2.1819;1541869200000;Meet the creators;grgrmlyxpbnb\\n41.390209;2.160295;1542306600000;AFTERWORK: INAUGURACIÓN DE LOS NUEVOS JUEVES GRUPPIT. CON GRANDES SORTEOS;ftqjkqyxpbtb\\n41.38099;2.16475;1542540600000;VERMUT MUSICAL;255960377\\n41.363373;2.152593;1542556800000;Slayer, Obituary, Anthrax and Lamb of God @Sant Jordi ;254984829\\n41.397633;2.190743;1543082400000;Concierto Dorian + lo que surja;255064833\\n41.38099;2.16475;1543690800000;DESEO, AMOR Y MUERTE;255619941\\nNone;None;1544119200000;Crucero fluvial por Sevilla y Cádiz. Del 6 al 9 de diciembre;255228407\\n41.38099;2.16475;1545505200000;BELL\\'OPERA;255726916\\n41.380173;2.17398;1547578800000;Madama Butterfly de Puccini al Liceu;252561705\\n!#\\n#22\\n41.400772;2.178354;1541181600000;ASOCIACIÓN METAFÍSICA DE BARCELONA;255700753\\n41.38599;2.174521;1541343600000;\"Aristóteles: Ética a Nicodemo\" 1er encuentro de Filosofía en Noviembre: Español;255768823\\n41.392452;2.170216;1541350800000;Personal Growth thru Movies: \"Before I Fall\" (2017) Karma, Love, and Redemption;255741645\\n41.381516;2.16147;1541502000000;Guided Meditation (seated);pznwkqyxpbjb\\n41.389999;2.160057;1541532600000;Aprende a meditar - (Martes por la noche meditación guiada);xxcphpyxpbjb\\n41.387917;2.169919;1541698200000;Interpretación de Cartas Natales;255766309\\n0;0;1541788200000;Contacto Extraterrestre - Puertas Abiertas Tseyor;255678988\\nNone;None;1541868600000;Women circle & Cacao ceremony;255575562\\n41.39258;2.158695;1541872800000;Trobada cada segon dissabte de cada mes;rzwblqyxpbnb\\n41.56537;1.8308;1542447000000;Taller de Tantra para Singles en Montserrat;254346737\\n41.408764;2.192638;1542470400000;Taller de Constelaciones Familiares y Sistémicas;tnszgpyxnbcc\\n41.385063;2.173404;1542553200000;Technology (Artificial intelligence): 2nd Encounter: English (Spanish Welcome);255940885\\n41.400772;2.178354;1542996000000;ASOCIACIÓN METAFÍSICA DE BARCELONA;255701218\\n41.383465;2.155986;1543168800000;Taller: autoestima;254678393\\n!#\\n#23\\n41.45126;2.188419;1541052000000;Bassegoda;255263029\\n41.429634;2.183661;1541053800000;Subida al Matagalls;255692122\\n41.385063;2.173404;1541053800000;Ruta por el imponente Congost de Montrebei!;255763851\\n41.386066;2.170403;1541055600000;El color volcánico del otoño en la Fageda d\\'en Jorda (BUS);255589553\\n41.386066;2.170403;1541055600000;El color volcánico del otoño en la Fageda d\\'en Jorda (BUS);255641567\\n41.385063;2.173404;1541055600000;Puente de Noviembre en el Parque Nacional de Ordesa, Ainsa y Alquezar;255094398\\n41.38652;2.118426;1541055600000;P.N ORDESA & LAGOS NEOUVIELLE.;251756392\\n41.38798;2.171049;1541057400000;VILADRAU a la tardor... bandolers, bruixes, castanyes...;255086115\\n41.387466;2.170792;1541057400000;Bosques de Otoño de La Cerdanya, Casa Rural & Comida Top;251472234\\n41.430496;2.183629;1541057400000;THE PARADISE OF MONTSENY. VILADRAU castanyers, fonts i bandolers de tardor;255399295\\n41.38701;2.17005;1541066400000;GAUDÍ Y MODERNISMO - RUTA GRATIS EN ESPAÑOL;mnzflqyxpbcb\\n0;0;1541077200000;EL DINAR DE LES BRUIXES!! DINAR FESTIU - ESPECIAL PANELLETS;255930935\\n41.38549;2.169878;1541097000000;Halloween, tour de fantasmas.... ;255897040\\n41.387226;2.167677;1541097000000;Intercambio alemán-español / Deutsch-Spanisch Austausch;pgvxkqyxpbcb\\n41.384384;2.175837;1541102400000;FREE TOUR - NIGHTLIFE IN BARCELONA SPECIAL HALLOWEEN EDITION (ENG);255864189\\n41.387024;2.170061;1541152800000;RUTA DEL BARRIO GÓTICO EN ESPAÑOL - GRATIS;tpszkqyxpbdb\\n41.384438;2.175085;1541168100000;Ruta Por El Casco Antiguo Y El Barrio Del Born;dtvcqlyxpbdb\\n41.389908;2.175329;1541179800000;Ruta de mosaicos por las farmacias modernistas del Casco Antiguo;255764042\\n41.390614;2.180773;1541185200000;Massa crítica BCN - Paseo nocturno improvisado por Barcelona;255510175\\n41.391747;2.148;1541190600000;Cena PlanB: conoce gente nueva de tu edad! (2 Mesas: 35-45  / 45-55);255738218\\n41.429634;2.183661;1541224800000;CINGLES DE GITARRIU-TREU PETIT;255967417\\n41.385063;2.173404;1541226600000;Ruta Trekking Portbou-Cadaqués 2 dias;255241384\\n41.385063;2.173404;1541226600000;Camino de ronda de Cap de Creus a Cadaqués;255549543\\n41.430992;2.183451;1541228400000;Hike: Alpens-Puig Cornador-St. Pere Serrallonga-Sta. Margarida-Portavella-Alpens;255953527\\n41.430496;2.183629;1541229300000;L\\' ENCANTERI de la FAGEDA D\\' EN JORDÀ i els volcans de la Garrotxa.;252674042\\n41.38607;2.116766;1541232000000;Vía Ferrata Canal de las Damas;255838210\\nNone;None;1541235600000;DELTA TORDERA Y BLANES.    Sardinas, boquerones y otros bichos del comer.;255546781\\n41.38706;2.170061;1541239200000;GUERRA CIVIL (1936/39) - RUTA GRATÍS EN ESPAÑOL;hhbglqyxpbfb\\n41.39325;2.182648;1541239200000;Hatha YOGA (actividad gratuita);255891007\\n41.391884;2.166428;1541248200000;Ladies who Lunch - El Arbol Brunch;255712280\\n41.384438;2.175085;1541254500000;Ruta Por El Casco Antiguo Y El Barrio Del Born;dtvcqlyxpbfb\\n41.39108;2.196688;1541257200000;VISITA GUIADA PRIVADA AL CEMENTIRI DEL POBLE NOU;255764413\\n41.38636;2.178157;1541268000000;Misterio, Leyendas e Historia Oculta de Barcelona;255770637\\n41.38429;2.176147;1541275200000;BARCELONA NOCTURNA -RUTA GRATÍS EN ESPAÑOL;qvzflqyxpbfb\\n41.401695;2.146755;1541311200000;Montserratina 2018;255637707\\nNone;None;1541313000000;EL COGUL (1526 m)-PRESÓ DEL CAPOLATELL (LA \"GUERRE DU FRANÇAIS\");255996398\\n41.431263;2.183522;1541314800000;Ruta fácil por la Fageda de la Grevolosa hasta Pic de l\\'Àguila;255904977\\n41.430702;2.183018;1541314800000;HORSE RIDING Pantans d\\'en Llobet amb Cavall ;255563810\\nNone;None;1541314800000;Helloween in Viladrau,surprise hike!;255895456\\n41.386463;2.116689;1541314800000;UN PASSEIG PEL MONTSANT, Camins i colors màgics;253058179\\n41.385063;2.173404;1541314800000;Ruta al Puig del Far desde Vilanova de Sau (vistas impresionantes!);255738787\\n41.38798;2.171049;1541316600000;VILADRAU a la tardor... bandolers, bruixes, castanyes...;255737808\\n41.383595;2.118926;1541316600000;La via de Nicolau. Bagà;255400705\\n41.41436;2.10533;1541318400000;Pendents del Tibidabo - Parc Natural de la Serra de Collserola;255950875\\n41.382137;2.172425;1541320200000;LA SEU D\\'ÈGARA: UN CONJUNT MONUMENTAL ÚNIC A EUROPA. Visita guiada privada;255764804\\n41.374748;2.16773;1541322000000;Caminata por el Delta del Llobregat;kfvxdmyxpbgb\\n41.44174;2.166036;1541325600000;HIKE: De Metro L3 Canyelles a Collserola... ;255523359\\n41.391285;2.17129;1541528100000;Seduction Dating;255944798\\n41.377415;2.140482;1541613600000;Tall amb tecnologia làser - taller de capacitació maker;253138387\\n41.409573;2.185641;1541615400000;Taller Sexualidad Consciente - Masaje Tántrico (Nivel I);255798302\\n41.377415;2.140482;1541615400000;Girls Meet Arduino;255948617\\n41.387226;2.167677;1541701800000;Intercambio alemán-español / Deutsch-Spanisch Austausch;pgvxkqyxpblb\\n41.386463;2.116689;1541750400000;Vins Naturals del Penedès, Caminada meditativa per Flandes;255672602\\n41.409573;2.185641;1541788200000;Conferencia: ¿Cómo superar el miedo a hablar en público? + Networking;255800075\\n41.390156;2.156798;1541799000000;10.000 HIKERS PARTY!!;255966578\\n41.45126;2.188419;1541829600000;La Fageda d´en Jorda – Banyoles;255558264\\n41.429634;2.183661;1541829600000;PLA DE PUJALTS (2056 m) DES DE NEVÀ;255602421\\n41.431263;2.183522;1541831400000;Via ferrata  Centelles - Baumes Corcadas - K4 -  40 min de BCN;255060543\\n41.431263;2.183522;1541833200000;Canal equipada Puigsacalm/Ganxos y la Fosca;255792241\\n41.429634;2.183661;1541833200000;BELLMUNT Hayedos, robledales, saltos de agua y paisajes espectaculares de otoño.;255736867\\n41.430702;2.183018;1541833200000;1a quedada para conocernos;255869228\\n41.387867;2.170395;1541833200000;FAGEDES DE VILADRAU;254849644\\n41.386387;2.170812;1541833200000;Otoño en la Garrotxa: \"Volcanes y La Fageda D\\'en Jordà'}\n",
      "{'_id': ObjectId('5bde23f125dc9adb78e8522b'), 'lat': '41.3927', 'long': '2.154454', 'start_date': '2018-11-01 19:00:00', 'event_name': 'Afterwork Party + La Fira :)'}\n",
      "{'_id': ObjectId('5bde23f125dc9adb78e8522e'), 'lat': '41.399357', 'long': '2.158889', 'start_date': '2018-11-01 20:30:00', 'event_name': 'Fun Salsa Bachata Party! (Free Class And Free Shot)'}\n",
      "{'_id': ObjectId('5bde23f125dc9adb78e85236'), 'lat': '41.381424', 'long': '2.180259', 'start_date': '2018-11-02 20:00:00', 'event_name': 'Mojito Party - Free Shots'}\n",
      "{'_id': ObjectId('5bde23f125dc9adb78e85238'), 'lat': '41.399357', 'long': '2.158889', 'start_date': '2018-11-02 21:00:00', 'event_name': 'FreeClass Salsa Bachata and Party!'}\n",
      "{'_id': ObjectId('5bde23f125dc9adb78e8523a'), 'lat': '41.400398', 'long': '2.15002', 'start_date': '2018-11-02 22:55:00', 'event_name': 'Friday OTTO ZUTZ Erasmus Party + Drinks'}\n",
      "{'_id': ObjectId('5bde23f125dc9adb78e85245'), 'lat': '41.377972', 'long': '2.178366', 'start_date': '2018-11-03 20:00:00', 'event_name': 'Saturday Nigth Party'}\n",
      "{'_id': ObjectId('5bde23f125dc9adb78e85249'), 'lat': '41.390221', 'long': '2.170444', 'start_date': '2018-11-03 21:30:00', 'event_name': 'International Meetup Party!'}\n",
      "{'_id': ObjectId('5bde23f125dc9adb78e8524a'), 'lat': '41.39022', 'long': '2.170444', 'start_date': '2018-11-03 21:30:00', 'event_name': 'The International Meetup Party'}\n",
      "{'_id': ObjectId('5bde23f125dc9adb78e85260'), 'lat': '41.399357', 'long': '2.158889', 'start_date': '2018-11-08 20:30:00', 'event_name': 'Fun Salsa Bachata Party! (Free Class And Free Shot)'}\n",
      "{'_id': ObjectId('5bde23f125dc9adb78e85264'), 'lat': '41.381424', 'long': '2.180259', 'start_date': '2018-11-09 20:00:00', 'event_name': 'Mojito Party - Free Shots'}\n",
      "{'_id': ObjectId('5bde23f125dc9adb78e85265'), 'lat': '41.399357', 'long': '2.158889', 'start_date': '2018-11-09 21:00:00', 'event_name': 'FreeClass Salsa Bachata and Party!'}\n",
      "{'_id': ObjectId('5bde23f125dc9adb78e8526a'), 'lat': '41.377972', 'long': '2.178366', 'start_date': '2018-11-10 20:00:00', 'event_name': 'Saturday Nigth Party'}\n",
      "{'_id': ObjectId('5bde23f125dc9adb78e85278'), 'lat': '41.399357', 'long': '2.158889', 'start_date': '2018-11-15 20:30:00', 'event_name': 'Fun Salsa Bachata Party! (Free Class And Free Shot)'}\n",
      "{'_id': ObjectId('5bde23f125dc9adb78e8527b'), 'lat': '41.399357', 'long': '2.158889', 'start_date': '2018-11-16 21:00:00', 'event_name': 'FreeClass Salsa Bachata and Party!'}\n",
      "{'_id': ObjectId('5bde23f125dc9adb78e85289'), 'lat': '41.399357', 'long': '2.158889', 'start_date': '2018-11-22 20:30:00', 'event_name': 'Fun Salsa Bachata Party! (Free Class And Free Shot)'}\n",
      "{'_id': ObjectId('5bde23f125dc9adb78e8528b'), 'lat': '41.399357', 'long': '2.158889', 'start_date': '2018-11-23 21:00:00', 'event_name': 'FreeClass Salsa Bachata and Party!'}\n",
      "{'_id': ObjectId('5bde23f125dc9adb78e85293'), 'lat': '41.399357', 'long': '2.158889', 'start_date': '2018-11-29 20:30:00', 'event_name': 'Fun Salsa Bachata Party! (Free Class And Free Shot)'}\n",
      "{'_id': ObjectId('5bde23f125dc9adb78e85295'), 'lat': '41.399357', 'long': '2.158889', 'start_date': '2018-11-30 21:00:00', 'event_name': 'FreeClass Salsa Bachata and Party!'}\n",
      "{'_id': ObjectId('5bde23f125dc9adb78e8529c'), 'lat': '41.399357', 'long': '2.158889', 'start_date': '2018-12-06 20:30:00', 'event_name': 'Fun Salsa Bachata Party! (Free Class And Free Shot)'}\n",
      "{'_id': ObjectId('5bde23f125dc9adb78e8529f'), 'lat': '41.399357', 'long': '2.158889', 'start_date': '2018-12-07 21:00:00', 'event_name': 'FreeClass Salsa Bachata and Party!'}\n",
      "{'_id': ObjectId('5bde23f125dc9adb78e852a5'), 'lat': '41.399357', 'long': '2.158889', 'start_date': '2018-12-13 20:30:00', 'event_name': 'Fun Salsa Bachata Party! (Free Class And Free Shot)'}\n",
      "{'_id': ObjectId('5bde23f125dc9adb78e852a6'), 'lat': '41.399357', 'long': '2.158889', 'start_date': '2018-12-14 21:00:00', 'event_name': 'FreeClass Salsa Bachata and Party!'}\n",
      "{'_id': ObjectId('5bde23f125dc9adb78e852ad'), 'lat': '41.399357', 'long': '2.158889', 'start_date': '2018-12-20 20:30:00', 'event_name': 'Fun Salsa Bachata Party! (Free Class And Free Shot)'}\n",
      "{'_id': ObjectId('5bde23f125dc9adb78e852af'), 'lat': '41.399357', 'long': '2.158889', 'start_date': '2018-12-21 21:00:00', 'event_name': 'FreeClass Salsa Bachata and Party!'}\n",
      "{'_id': ObjectId('5bde23f125dc9adb78e852b3'), 'lat': '41.399357', 'long': '2.158889', 'start_date': '2018-12-27 20:30:00', 'event_name': 'Fun Salsa Bachata Party! (Free Class And Free Shot)'}\n",
      "{'_id': ObjectId('5bde23f125dc9adb78e852b4'), 'lat': '41.399357', 'long': '2.158889', 'start_date': '2018-12-28 21:00:00', 'event_name': 'FreeClass Salsa Bachata and Party!'}\n",
      "{'_id': ObjectId('5bde23f125dc9adb78e852c6'), 'lat': '41.3927', 'long': '2.154454', 'start_date': '2018-11-01 19:00:00', 'event_name': 'Afterwork Party + La Fira :)'}\n"
     ]
    },
    {
     "data": {
      "text/plain": [
       "[None,\n",
       " None,\n",
       " None,\n",
       " None,\n",
       " None,\n",
       " None,\n",
       " None,\n",
       " None,\n",
       " None,\n",
       " None,\n",
       " None,\n",
       " None,\n",
       " None,\n",
       " None,\n",
       " None,\n",
       " None,\n",
       " None,\n",
       " None,\n",
       " None,\n",
       " None,\n",
       " None,\n",
       " None,\n",
       " None,\n",
       " None,\n",
       " None,\n",
       " None,\n",
       " None,\n",
       " None,\n",
       " None,\n",
       " None,\n",
       " None,\n",
       " None,\n",
       " None,\n",
       " None]"
      ]
     },
     "execution_count": 12,
     "metadata": {},
     "output_type": "execute_result"
    }
   ],
   "source": [
    "substring = r'Party'\n",
    "reg = substring\n",
    "[print (i) for i in col_meetup.find({\"event_name\":{\"$regex\":reg}})]"
   ]
  },
  {
   "cell_type": "code",
   "execution_count": 27,
   "metadata": {
    "collapsed": false
   },
   "outputs": [
    {
     "data": {
      "text/plain": [
       "{'nIndexesWas': 1, 'ns': 'events.meetup', 'ok': 1.0}"
      ]
     },
     "execution_count": 27,
     "metadata": {},
     "output_type": "execute_result"
    }
   ],
   "source": [
    "#db.drop_collection(\"xceed\")\n",
    "#db.drop_collection(\"meetup\")"
   ]
  },
  {
   "cell_type": "code",
   "execution_count": null,
   "metadata": {
    "collapsed": true
   },
   "outputs": [],
   "source": []
  },
  {
   "cell_type": "code",
   "execution_count": null,
   "metadata": {
    "collapsed": true
   },
   "outputs": [],
   "source": []
  }
 ],
 "metadata": {
  "anaconda-cloud": {},
  "kernelspec": {
   "display_name": "Python [conda env:py3p6]",
   "language": "python",
   "name": "conda-env-py3p6-py"
  },
  "language_info": {
   "codemirror_mode": {
    "name": "ipython",
    "version": 3
   },
   "file_extension": ".py",
   "mimetype": "text/x-python",
   "name": "python",
   "nbconvert_exporter": "python",
   "pygments_lexer": "ipython3",
   "version": "3.6.2"
  }
 },
 "nbformat": 4,
 "nbformat_minor": 1
}
